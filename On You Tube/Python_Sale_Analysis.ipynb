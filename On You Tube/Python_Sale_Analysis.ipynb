{
 "cells":[
  {
   "cell_type":"markdown",
   "source":[
    "# Sales Analysis \n",
    "### Import Necessary Librarise"
   ],
   "attachments":{
    
   },
   "metadata":{
    "datalore":{
     "node_id":"Tv0jVS1k5Rb7aLPbSqhdzQ",
     "type":"MD",
     "hide_input_from_viewers":true,
     "hide_output_from_viewers":true
    }
   }
  },
  {
   "cell_type":"code",
   "source":[
    "import pandas as pd \n",
    "import os"
   ],
   "execution_count":1,
   "outputs":[
    
   ],
   "metadata":{
    "datalore":{
     "node_id":"6E5LzWY4mqBnGQbvLbWdwM",
     "type":"CODE",
     "hide_input_from_viewers":true,
     "hide_output_from_viewers":true
    }
   }
  },
  {
   "cell_type":"markdown",
   "source":[
    "### Task 1. Merging 12 months of sales data into a single csv file"
   ],
   "attachments":{
    
   },
   "metadata":{
    "datalore":{
     "node_id":"B57Yni7yfIXJuW5jhry0m2",
     "type":"MD",
     "hide_input_from_viewers":true,
     "hide_output_from_viewers":true
    }
   }
  },
  {
   "cell_type":"code",
   "source":[
    "df = pd.read_csv('Sales_Data\/Sales_April_2019.csv')"
   ],
   "execution_count":2,
   "outputs":[
    
   ],
   "metadata":{
    "datalore":{
     "node_id":"ZRnJPZ158FOQGg2CzT3oJn",
     "type":"CODE",
     "hide_input_from_viewers":true,
     "hide_output_from_viewers":true
    }
   }
  },
  {
   "cell_type":"markdown",
   "source":[
    "##### How do I list all files of a directory\n",
    "- https:\/\/stackoverflow.com\/questions\/3207219\/how-do-i-list-all-files-of-a-directory\n",
    "##### concatenate data frame\n",
    "- https:\/\/pandas.pydata.org\/docs\/reference\/api\/pandas.concat.html"
   ],
   "attachments":{
    
   },
   "metadata":{
    "datalore":{
     "node_id":"XrvMxz61shntlShDrgxWib",
     "type":"MD",
     "hide_input_from_viewers":true,
     "hide_output_from_viewers":true
    }
   }
  },
  {
   "cell_type":"code",
   "source":[
    "# list all files of a directory\n",
    "files = [file for file in os.listdir('Sales_Data')]\n",
    "for file in files:\n",
    "    print(file)"
   ],
   "execution_count":3,
   "outputs":[
    {
     "name":"stdout",
     "text":[
      "Sales_July_2019.csv\n",
      "Sales_January_2019.csv\n",
      "Sales_September_2019.csv\n",
      "Sales_November_2019.csv\n",
      "Sales_August_2019.csv\n",
      "Sales_April_2019.csv\n",
      "Sales_May_2019.csv\n",
      "Sales_February_2019.csv\n",
      "Sales_October_2019.csv\n",
      "Sales_June_2019.csv\n",
      "Sales_December_2019.csv\n",
      "Sales_March_2019.csv\n"
     ],
     "output_type":"stream"
    }
   ],
   "metadata":{
    "datalore":{
     "node_id":"Z3iV16PAvtSSugZoyPgcoZ",
     "type":"CODE",
     "hide_input_from_viewers":true,
     "hide_output_from_viewers":true
    }
   }
  },
  {
   "cell_type":"code",
   "source":[
    "# Concatenate\n",
    "all_months_data = pd.DataFrame()\n",
    "\n",
    "for file in files:\n",
    "    df = pd.read_csv(\"Sales_Data\/\"+file)\n",
    "    all_months_data = pd.concat([all_months_data, df])"
   ],
   "execution_count":4,
   "outputs":[
    
   ],
   "metadata":{
    "datalore":{
     "node_id":"btDEfmu9HWZlM1bkNr2rsD",
     "type":"CODE",
     "hide_input_from_viewers":true,
     "hide_output_from_viewers":true
    }
   }
  },
  {
   "cell_type":"markdown",
   "source":[
    "# list all files + Concatenate"
   ],
   "attachments":{
    
   },
   "metadata":{
    "datalore":{
     "node_id":"KQKyTXLS0OQpcyxAustA28",
     "type":"MD",
     "hide_input_from_viewers":true,
     "hide_output_from_viewers":true
    }
   }
  },
  {
   "cell_type":"code",
   "source":[
    "files = [file for file in os.listdir('Sales_Data')]\n",
    "\n",
    "all_months_data = pd.DataFrame()\n",
    "\n",
    "for file in files:\n",
    "    df = pd.read_csv('Sales_Data\/'+file)\n",
    "    all_months_data = pd.concat([all_months_data, df])\n",
    "\n",
    "all_months_data"
   ],
   "execution_count":5,
   "outputs":[
    {
     "data":{
      "text\/html":[
       "<div>\n",
       "<style scoped>\n",
       "    .dataframe tbody tr th:only-of-type {\n",
       "        vertical-align: middle;\n",
       "    }\n",
       "\n",
       "    .dataframe tbody tr th {\n",
       "        vertical-align: top;\n",
       "    }\n",
       "\n",
       "    .dataframe thead th {\n",
       "        text-align: right;\n",
       "    }\n",
       "<\/style>\n",
       "<table border=\"1\" class=\"dataframe\">\n",
       "  <thead>\n",
       "    <tr style=\"text-align: right;\">\n",
       "      <th><\/th>\n",
       "      <th>Order ID<\/th>\n",
       "      <th>Product<\/th>\n",
       "      <th>Quantity Ordered<\/th>\n",
       "      <th>Price Each<\/th>\n",
       "      <th>Order Date<\/th>\n",
       "      <th>Purchase Address<\/th>\n",
       "    <\/tr>\n",
       "  <\/thead>\n",
       "  <tbody>\n",
       "    <tr>\n",
       "      <th>0<\/th>\n",
       "      <td>222910<\/td>\n",
       "      <td>Apple Airpods Headphones<\/td>\n",
       "      <td>1<\/td>\n",
       "      <td>150<\/td>\n",
       "      <td>07\/26\/19 16:51<\/td>\n",
       "      <td>389 South St, Atlanta, GA 30301<\/td>\n",
       "    <\/tr>\n",
       "    <tr>\n",
       "      <th>1<\/th>\n",
       "      <td>222911<\/td>\n",
       "      <td>Flatscreen TV<\/td>\n",
       "      <td>1<\/td>\n",
       "      <td>300<\/td>\n",
       "      <td>07\/05\/19 08:55<\/td>\n",
       "      <td>590 4th St, Seattle, WA 98101<\/td>\n",
       "    <\/tr>\n",
       "    <tr>\n",
       "      <th>2<\/th>\n",
       "      <td>222912<\/td>\n",
       "      <td>AA Batteries (4-pack)<\/td>\n",
       "      <td>1<\/td>\n",
       "      <td>3.84<\/td>\n",
       "      <td>07\/29\/19 12:41<\/td>\n",
       "      <td>861 Hill St, Atlanta, GA 30301<\/td>\n",
       "    <\/tr>\n",
       "    <tr>\n",
       "      <th>3<\/th>\n",
       "      <td>222913<\/td>\n",
       "      <td>AA Batteries (4-pack)<\/td>\n",
       "      <td>1<\/td>\n",
       "      <td>3.84<\/td>\n",
       "      <td>07\/28\/19 10:15<\/td>\n",
       "      <td>190 Ridge St, Atlanta, GA 30301<\/td>\n",
       "    <\/tr>\n",
       "    <tr>\n",
       "      <th>4<\/th>\n",
       "      <td>222914<\/td>\n",
       "      <td>AAA Batteries (4-pack)<\/td>\n",
       "      <td>5<\/td>\n",
       "      <td>2.99<\/td>\n",
       "      <td>07\/31\/19 02:13<\/td>\n",
       "      <td>824 Forest St, Seattle, WA 98101<\/td>\n",
       "    <\/tr>\n",
       "    <tr>\n",
       "      <th>...<\/th>\n",
       "      <td>...<\/td>\n",
       "      <td>...<\/td>\n",
       "      <td>...<\/td>\n",
       "      <td>...<\/td>\n",
       "      <td>...<\/td>\n",
       "      <td>...<\/td>\n",
       "    <\/tr>\n",
       "    <tr>\n",
       "      <th>15221<\/th>\n",
       "      <td>176554<\/td>\n",
       "      <td>Lightning Charging Cable<\/td>\n",
       "      <td>1<\/td>\n",
       "      <td>14.95<\/td>\n",
       "      <td>03\/24\/19 11:14<\/td>\n",
       "      <td>672 12th St, San Francisco, CA 94016<\/td>\n",
       "    <\/tr>\n",
       "    <tr>\n",
       "      <th>15222<\/th>\n",
       "      <td>176555<\/td>\n",
       "      <td>27in FHD Monitor<\/td>\n",
       "      <td>1<\/td>\n",
       "      <td>149.99<\/td>\n",
       "      <td>03\/22\/19 20:27<\/td>\n",
       "      <td>42 4th St, San Francisco, CA 94016<\/td>\n",
       "    <\/tr>\n",
       "    <tr>\n",
       "      <th>15223<\/th>\n",
       "      <td>176556<\/td>\n",
       "      <td>AAA Batteries (4-pack)<\/td>\n",
       "      <td>3<\/td>\n",
       "      <td>2.99<\/td>\n",
       "      <td>03\/14\/19 10:29<\/td>\n",
       "      <td>871 7th St, Los Angeles, CA 90001<\/td>\n",
       "    <\/tr>\n",
       "    <tr>\n",
       "      <th>15224<\/th>\n",
       "      <td>176557<\/td>\n",
       "      <td>iPhone<\/td>\n",
       "      <td>1<\/td>\n",
       "      <td>700<\/td>\n",
       "      <td>03\/30\/19 12:32<\/td>\n",
       "      <td>83 Washington St, San Francisco, CA 94016<\/td>\n",
       "    <\/tr>\n",
       "    <tr>\n",
       "      <th>15225<\/th>\n",
       "      <td>176557<\/td>\n",
       "      <td>Lightning Charging Cable<\/td>\n",
       "      <td>1<\/td>\n",
       "      <td>14.95<\/td>\n",
       "      <td>03\/30\/19 12:32<\/td>\n",
       "      <td>83 Washington St, San Francisco, CA 94016<\/td>\n",
       "    <\/tr>\n",
       "  <\/tbody>\n",
       "<\/table>\n",
       "<p>186850 rows × 6 columns<\/p>\n",
       "<\/div>"
      ]
     },
     "metadata":{
      
     },
     "output_type":"display_data"
    }
   ],
   "metadata":{
    "datalore":{
     "node_id":"15ZVguGITy2WdLPReKjay5",
     "type":"CODE",
     "hide_input_from_viewers":true,
     "hide_output_from_viewers":true
    }
   }
  },
  {
   "cell_type":"markdown",
   "source":[
    "### Export new data "
   ],
   "attachments":{
    
   },
   "metadata":{
    "datalore":{
     "node_id":"3txqpNzZh9R330HPE87Xqr",
     "type":"MD",
     "hide_input_from_viewers":true,
     "hide_output_from_viewers":true
    }
   }
  },
  {
   "cell_type":"code",
   "source":[
    "all_months_data.to_csv('all_data.csv', index=False)"
   ],
   "execution_count":6,
   "outputs":[
    
   ],
   "metadata":{
    "datalore":{
     "node_id":"XhcQD6U7T0jMSVK9pH5bEw",
     "type":"CODE",
     "hide_input_from_viewers":true,
     "hide_output_from_viewers":true
    }
   }
  },
  {
   "cell_type":"markdown",
   "source":[
    "### Read in update dataframe"
   ],
   "attachments":{
    
   },
   "metadata":{
    "datalore":{
     "node_id":"t5MhygG9wscjeYJopjaOGm",
     "type":"MD",
     "hide_input_from_viewers":true,
     "hide_output_from_viewers":true
    }
   }
  },
  {
   "cell_type":"code",
   "source":[
    "all_data = pd.read_csv('all_data.csv')\n",
    "all_data.head()"
   ],
   "execution_count":7,
   "outputs":[
    {
     "data":{
      "text\/html":[
       "<div>\n",
       "<style scoped>\n",
       "    .dataframe tbody tr th:only-of-type {\n",
       "        vertical-align: middle;\n",
       "    }\n",
       "\n",
       "    .dataframe tbody tr th {\n",
       "        vertical-align: top;\n",
       "    }\n",
       "\n",
       "    .dataframe thead th {\n",
       "        text-align: right;\n",
       "    }\n",
       "<\/style>\n",
       "<table border=\"1\" class=\"dataframe\">\n",
       "  <thead>\n",
       "    <tr style=\"text-align: right;\">\n",
       "      <th><\/th>\n",
       "      <th>Order ID<\/th>\n",
       "      <th>Product<\/th>\n",
       "      <th>Quantity Ordered<\/th>\n",
       "      <th>Price Each<\/th>\n",
       "      <th>Order Date<\/th>\n",
       "      <th>Purchase Address<\/th>\n",
       "    <\/tr>\n",
       "  <\/thead>\n",
       "  <tbody>\n",
       "    <tr>\n",
       "      <th>0<\/th>\n",
       "      <td>222910<\/td>\n",
       "      <td>Apple Airpods Headphones<\/td>\n",
       "      <td>1<\/td>\n",
       "      <td>150<\/td>\n",
       "      <td>07\/26\/19 16:51<\/td>\n",
       "      <td>389 South St, Atlanta, GA 30301<\/td>\n",
       "    <\/tr>\n",
       "    <tr>\n",
       "      <th>1<\/th>\n",
       "      <td>222911<\/td>\n",
       "      <td>Flatscreen TV<\/td>\n",
       "      <td>1<\/td>\n",
       "      <td>300<\/td>\n",
       "      <td>07\/05\/19 08:55<\/td>\n",
       "      <td>590 4th St, Seattle, WA 98101<\/td>\n",
       "    <\/tr>\n",
       "    <tr>\n",
       "      <th>2<\/th>\n",
       "      <td>222912<\/td>\n",
       "      <td>AA Batteries (4-pack)<\/td>\n",
       "      <td>1<\/td>\n",
       "      <td>3.84<\/td>\n",
       "      <td>07\/29\/19 12:41<\/td>\n",
       "      <td>861 Hill St, Atlanta, GA 30301<\/td>\n",
       "    <\/tr>\n",
       "    <tr>\n",
       "      <th>3<\/th>\n",
       "      <td>222913<\/td>\n",
       "      <td>AA Batteries (4-pack)<\/td>\n",
       "      <td>1<\/td>\n",
       "      <td>3.84<\/td>\n",
       "      <td>07\/28\/19 10:15<\/td>\n",
       "      <td>190 Ridge St, Atlanta, GA 30301<\/td>\n",
       "    <\/tr>\n",
       "    <tr>\n",
       "      <th>4<\/th>\n",
       "      <td>222914<\/td>\n",
       "      <td>AAA Batteries (4-pack)<\/td>\n",
       "      <td>5<\/td>\n",
       "      <td>2.99<\/td>\n",
       "      <td>07\/31\/19 02:13<\/td>\n",
       "      <td>824 Forest St, Seattle, WA 98101<\/td>\n",
       "    <\/tr>\n",
       "  <\/tbody>\n",
       "<\/table>\n",
       "<\/div>"
      ]
     },
     "metadata":{
      
     },
     "output_type":"display_data"
    }
   ],
   "metadata":{
    "datalore":{
     "node_id":"rVofP0HRmGmsM2iO5VI0nN",
     "type":"CODE",
     "hide_input_from_viewers":true,
     "hide_output_from_viewers":true
    }
   }
  },
  {
   "cell_type":"code",
   "source":[
    "all_data.info()"
   ],
   "execution_count":8,
   "outputs":[
    {
     "name":"stdout",
     "text":[
      "<class 'pandas.core.frame.DataFrame'>\n",
      "RangeIndex: 186850 entries, 0 to 186849\n",
      "Data columns (total 6 columns):\n",
      " #   Column            Non-Null Count   Dtype \n",
      "---  ------            --------------   ----- \n",
      " 0   Order ID          186305 non-null  object\n",
      " 1   Product           186305 non-null  object\n",
      " 2   Quantity Ordered  186305 non-null  object\n",
      " 3   Price Each        186305 non-null  object\n",
      " 4   Order Date        186305 non-null  object\n",
      " 5   Purchase Address  186305 non-null  object\n",
      "dtypes: object(6)\n",
      "memory usage: 8.6+ MB\n"
     ],
     "output_type":"stream"
    }
   ],
   "metadata":{
    "datalore":{
     "node_id":"GEpl2iQXtSXZD1Cwc5f4kV",
     "type":"CODE",
     "hide_input_from_viewers":true,
     "hide_output_from_viewers":true
    }
   }
  },
  {
   "cell_type":"markdown",
   "source":[
    "## Clean up the data!"
   ],
   "attachments":{
    
   },
   "metadata":{
    "datalore":{
     "node_id":"qLwDeDnLopDTTWjg1hEHRO",
     "type":"MD",
     "hide_input_from_viewers":true,
     "hide_output_from_viewers":true
    }
   }
  },
  {
   "cell_type":"markdown",
   "source":[
    "### Drop rows of NaN"
   ],
   "attachments":{
    
   },
   "metadata":{
    "datalore":{
     "node_id":"UBTPakBntqNphFFN2xgHud",
     "type":"MD",
     "hide_input_from_viewers":true,
     "hide_output_from_viewers":true
    }
   }
  },
  {
   "cell_type":"code",
   "source":[
    "# axis = 1 จะตรวจสอบ เเถวทีละเเถว axis=0 จะตรวจสอบคอลัมน์ทีละคอลัมน์ (ตามเเนวนอน) \n",
    "nan_data = all_data[ all_data.isna().any(axis = 1) ] #ถ้าไม่ใช่ .any(axis=1) จะ == axis=0 ซึ้งจะเป็นค่าเริ่มต้น # ปล.ถ้าใช้ all มันจะลบทุกคอลัมน์\n",
    "nan_data.head()"
   ],
   "execution_count":9,
   "outputs":[
    {
     "data":{
      "text\/html":[
       "<div>\n",
       "<style scoped>\n",
       "    .dataframe tbody tr th:only-of-type {\n",
       "        vertical-align: middle;\n",
       "    }\n",
       "\n",
       "    .dataframe tbody tr th {\n",
       "        vertical-align: top;\n",
       "    }\n",
       "\n",
       "    .dataframe thead th {\n",
       "        text-align: right;\n",
       "    }\n",
       "<\/style>\n",
       "<table border=\"1\" class=\"dataframe\">\n",
       "  <thead>\n",
       "    <tr style=\"text-align: right;\">\n",
       "      <th><\/th>\n",
       "      <th>Order ID<\/th>\n",
       "      <th>Product<\/th>\n",
       "      <th>Quantity Ordered<\/th>\n",
       "      <th>Price Each<\/th>\n",
       "      <th>Order Date<\/th>\n",
       "      <th>Purchase Address<\/th>\n",
       "    <\/tr>\n",
       "  <\/thead>\n",
       "  <tbody>\n",
       "    <tr>\n",
       "      <th>199<\/th>\n",
       "      <td>NaN<\/td>\n",
       "      <td>NaN<\/td>\n",
       "      <td>NaN<\/td>\n",
       "      <td>NaN<\/td>\n",
       "      <td>NaN<\/td>\n",
       "      <td>NaN<\/td>\n",
       "    <\/tr>\n",
       "    <tr>\n",
       "      <th>315<\/th>\n",
       "      <td>NaN<\/td>\n",
       "      <td>NaN<\/td>\n",
       "      <td>NaN<\/td>\n",
       "      <td>NaN<\/td>\n",
       "      <td>NaN<\/td>\n",
       "      <td>NaN<\/td>\n",
       "    <\/tr>\n",
       "    <tr>\n",
       "      <th>599<\/th>\n",
       "      <td>NaN<\/td>\n",
       "      <td>NaN<\/td>\n",
       "      <td>NaN<\/td>\n",
       "      <td>NaN<\/td>\n",
       "      <td>NaN<\/td>\n",
       "      <td>NaN<\/td>\n",
       "    <\/tr>\n",
       "    <tr>\n",
       "      <th>675<\/th>\n",
       "      <td>NaN<\/td>\n",
       "      <td>NaN<\/td>\n",
       "      <td>NaN<\/td>\n",
       "      <td>NaN<\/td>\n",
       "      <td>NaN<\/td>\n",
       "      <td>NaN<\/td>\n",
       "    <\/tr>\n",
       "    <tr>\n",
       "      <th>1027<\/th>\n",
       "      <td>NaN<\/td>\n",
       "      <td>NaN<\/td>\n",
       "      <td>NaN<\/td>\n",
       "      <td>NaN<\/td>\n",
       "      <td>NaN<\/td>\n",
       "      <td>NaN<\/td>\n",
       "    <\/tr>\n",
       "  <\/tbody>\n",
       "<\/table>\n",
       "<\/div>"
      ]
     },
     "metadata":{
      
     },
     "output_type":"display_data"
    }
   ],
   "metadata":{
    "datalore":{
     "node_id":"5Fmo1n9l3gtRqV0s6gjc0B",
     "type":"CODE",
     "hide_input_from_viewers":true,
     "hide_output_from_viewers":true
    }
   }
  },
  {
   "cell_type":"markdown",
   "source":[
    "### จัดการกับค่า Minssing Value เเล้ว"
   ],
   "attachments":{
    
   },
   "metadata":{
    "datalore":{
     "node_id":"YhBIvYLFsgRppERSxc8vhX",
     "type":"MD",
     "hide_input_from_viewers":true,
     "hide_output_from_viewers":true
    }
   }
  },
  {
   "cell_type":"code",
   "source":[
    "# all_data.dropna(how='all') == all_data.dropna(how='all', axis=0) คือ เเถวที่มีค่า NaN ในทุกคอลัมน์ถึงจะลบเเถวนั้นออก\n",
    "all_data = all_data.dropna(how='any') # all_data.dropna(how='any') == all_data.dropna() เพราะเป็นค่าเริ่มต้นของกันเเละกัน\n",
    "all_data.head()"
   ],
   "execution_count":10,
   "outputs":[
    {
     "data":{
      "text\/html":[
       "<div>\n",
       "<style scoped>\n",
       "    .dataframe tbody tr th:only-of-type {\n",
       "        vertical-align: middle;\n",
       "    }\n",
       "\n",
       "    .dataframe tbody tr th {\n",
       "        vertical-align: top;\n",
       "    }\n",
       "\n",
       "    .dataframe thead th {\n",
       "        text-align: right;\n",
       "    }\n",
       "<\/style>\n",
       "<table border=\"1\" class=\"dataframe\">\n",
       "  <thead>\n",
       "    <tr style=\"text-align: right;\">\n",
       "      <th><\/th>\n",
       "      <th>Order ID<\/th>\n",
       "      <th>Product<\/th>\n",
       "      <th>Quantity Ordered<\/th>\n",
       "      <th>Price Each<\/th>\n",
       "      <th>Order Date<\/th>\n",
       "      <th>Purchase Address<\/th>\n",
       "    <\/tr>\n",
       "  <\/thead>\n",
       "  <tbody>\n",
       "    <tr>\n",
       "      <th>0<\/th>\n",
       "      <td>222910<\/td>\n",
       "      <td>Apple Airpods Headphones<\/td>\n",
       "      <td>1<\/td>\n",
       "      <td>150<\/td>\n",
       "      <td>07\/26\/19 16:51<\/td>\n",
       "      <td>389 South St, Atlanta, GA 30301<\/td>\n",
       "    <\/tr>\n",
       "    <tr>\n",
       "      <th>1<\/th>\n",
       "      <td>222911<\/td>\n",
       "      <td>Flatscreen TV<\/td>\n",
       "      <td>1<\/td>\n",
       "      <td>300<\/td>\n",
       "      <td>07\/05\/19 08:55<\/td>\n",
       "      <td>590 4th St, Seattle, WA 98101<\/td>\n",
       "    <\/tr>\n",
       "    <tr>\n",
       "      <th>2<\/th>\n",
       "      <td>222912<\/td>\n",
       "      <td>AA Batteries (4-pack)<\/td>\n",
       "      <td>1<\/td>\n",
       "      <td>3.84<\/td>\n",
       "      <td>07\/29\/19 12:41<\/td>\n",
       "      <td>861 Hill St, Atlanta, GA 30301<\/td>\n",
       "    <\/tr>\n",
       "    <tr>\n",
       "      <th>3<\/th>\n",
       "      <td>222913<\/td>\n",
       "      <td>AA Batteries (4-pack)<\/td>\n",
       "      <td>1<\/td>\n",
       "      <td>3.84<\/td>\n",
       "      <td>07\/28\/19 10:15<\/td>\n",
       "      <td>190 Ridge St, Atlanta, GA 30301<\/td>\n",
       "    <\/tr>\n",
       "    <tr>\n",
       "      <th>4<\/th>\n",
       "      <td>222914<\/td>\n",
       "      <td>AAA Batteries (4-pack)<\/td>\n",
       "      <td>5<\/td>\n",
       "      <td>2.99<\/td>\n",
       "      <td>07\/31\/19 02:13<\/td>\n",
       "      <td>824 Forest St, Seattle, WA 98101<\/td>\n",
       "    <\/tr>\n",
       "  <\/tbody>\n",
       "<\/table>\n",
       "<\/div>"
      ]
     },
     "metadata":{
      
     },
     "output_type":"display_data"
    }
   ],
   "metadata":{
    "datalore":{
     "node_id":"iRTSMhei70DjPD3cKI5u25",
     "type":"CODE",
     "hide_input_from_viewers":true,
     "hide_output_from_viewers":true
    }
   }
  },
  {
   "cell_type":"markdown",
   "source":[
    "### จัดการกับ Order Date ที่ผิดปกติ"
   ],
   "attachments":{
    
   },
   "metadata":{
    "datalore":{
     "node_id":"A4zygVQrMNyiQyM1llmw5J",
     "type":"MD",
     "hide_input_from_viewers":true,
     "hide_output_from_viewers":true
    }
   }
  },
  {
   "cell_type":"code",
   "source":[
    "import re\n",
    "all_data = all_data[all_data['Order Date'].str.contains('[0-9]', na=False)]\n",
    "all_data.head()"
   ],
   "execution_count":11,
   "outputs":[
    {
     "data":{
      "text\/html":[
       "<div>\n",
       "<style scoped>\n",
       "    .dataframe tbody tr th:only-of-type {\n",
       "        vertical-align: middle;\n",
       "    }\n",
       "\n",
       "    .dataframe tbody tr th {\n",
       "        vertical-align: top;\n",
       "    }\n",
       "\n",
       "    .dataframe thead th {\n",
       "        text-align: right;\n",
       "    }\n",
       "<\/style>\n",
       "<table border=\"1\" class=\"dataframe\">\n",
       "  <thead>\n",
       "    <tr style=\"text-align: right;\">\n",
       "      <th><\/th>\n",
       "      <th>Order ID<\/th>\n",
       "      <th>Product<\/th>\n",
       "      <th>Quantity Ordered<\/th>\n",
       "      <th>Price Each<\/th>\n",
       "      <th>Order Date<\/th>\n",
       "      <th>Purchase Address<\/th>\n",
       "    <\/tr>\n",
       "  <\/thead>\n",
       "  <tbody>\n",
       "    <tr>\n",
       "      <th>0<\/th>\n",
       "      <td>222910<\/td>\n",
       "      <td>Apple Airpods Headphones<\/td>\n",
       "      <td>1<\/td>\n",
       "      <td>150<\/td>\n",
       "      <td>07\/26\/19 16:51<\/td>\n",
       "      <td>389 South St, Atlanta, GA 30301<\/td>\n",
       "    <\/tr>\n",
       "    <tr>\n",
       "      <th>1<\/th>\n",
       "      <td>222911<\/td>\n",
       "      <td>Flatscreen TV<\/td>\n",
       "      <td>1<\/td>\n",
       "      <td>300<\/td>\n",
       "      <td>07\/05\/19 08:55<\/td>\n",
       "      <td>590 4th St, Seattle, WA 98101<\/td>\n",
       "    <\/tr>\n",
       "    <tr>\n",
       "      <th>2<\/th>\n",
       "      <td>222912<\/td>\n",
       "      <td>AA Batteries (4-pack)<\/td>\n",
       "      <td>1<\/td>\n",
       "      <td>3.84<\/td>\n",
       "      <td>07\/29\/19 12:41<\/td>\n",
       "      <td>861 Hill St, Atlanta, GA 30301<\/td>\n",
       "    <\/tr>\n",
       "    <tr>\n",
       "      <th>3<\/th>\n",
       "      <td>222913<\/td>\n",
       "      <td>AA Batteries (4-pack)<\/td>\n",
       "      <td>1<\/td>\n",
       "      <td>3.84<\/td>\n",
       "      <td>07\/28\/19 10:15<\/td>\n",
       "      <td>190 Ridge St, Atlanta, GA 30301<\/td>\n",
       "    <\/tr>\n",
       "    <tr>\n",
       "      <th>4<\/th>\n",
       "      <td>222914<\/td>\n",
       "      <td>AAA Batteries (4-pack)<\/td>\n",
       "      <td>5<\/td>\n",
       "      <td>2.99<\/td>\n",
       "      <td>07\/31\/19 02:13<\/td>\n",
       "      <td>824 Forest St, Seattle, WA 98101<\/td>\n",
       "    <\/tr>\n",
       "  <\/tbody>\n",
       "<\/table>\n",
       "<\/div>"
      ]
     },
     "metadata":{
      
     },
     "output_type":"display_data"
    }
   ],
   "metadata":{
    "datalore":{
     "node_id":"H0FV0LsByblhbZz4hAeKPR",
     "type":"CODE",
     "hide_input_from_viewers":true,
     "hide_output_from_viewers":true
    }
   }
  },
  {
   "cell_type":"markdown",
   "source":[
    "## จัดการ Data type"
   ],
   "attachments":{
    
   },
   "metadata":{
    "datalore":{
     "node_id":"9dcY8UWRzJIzIWg7LQcuTM",
     "type":"MD",
     "hide_input_from_viewers":true,
     "hide_output_from_viewers":true
    }
   }
  },
  {
   "cell_type":"markdown",
   "source":[
    "##### Convert columns to the correct type!"
   ],
   "attachments":{
    
   },
   "metadata":{
    "datalore":{
     "node_id":"dgtAStqPojIOS6Mv06AI5Y",
     "type":"MD",
     "hide_input_from_viewers":true,
     "hide_output_from_viewers":true
    }
   }
  },
  {
   "cell_type":"code",
   "source":[
    "all_data[\"Quantity Ordered\"] = all_data[\"Quantity Ordered\"].astype(int) # Make int\n",
    "all_data['Price Each'] = all_data[\"Price Each\"].astype(float) # Make float\n",
    "\n",
    "##----------------------------------------------------------##\n",
    "\n",
    "#all_data[\"Quantity Ordered\"] = pd.to_numeric(all_data['Quantity Ordered'])\n",
    "#all_data['Price Each'] = pd.to_numeric('Price Each')"
   ],
   "execution_count":12,
   "outputs":[
    
   ],
   "metadata":{
    "datalore":{
     "node_id":"CocQBT9L096r06e8h52zpV",
     "type":"CODE",
     "hide_input_from_viewers":true,
     "hide_output_from_viewers":true
    }
   }
  },
  {
   "cell_type":"markdown",
   "source":[
    "## Augment data with additional columns"
   ],
   "attachments":{
    
   },
   "metadata":{
    "datalore":{
     "node_id":"fdrCQOkMHshfSNgqxMtqtg",
     "type":"MD",
     "hide_input_from_viewers":true,
     "hide_output_from_viewers":true
    }
   }
  },
  {
   "cell_type":"markdown",
   "source":[
    "### Task 2: Add Day\/Month\/Year Column"
   ],
   "attachments":{
    
   },
   "metadata":{
    "datalore":{
     "node_id":"uswftr5mi4NxoxTSWWVYsj",
     "type":"MD",
     "hide_input_from_viewers":true,
     "hide_output_from_viewers":true
    }
   }
  },
  {
   "cell_type":"code",
   "source":[
    "#all_data['Order Date'].astype(int)\n",
    "#pd.to_datetime(all_data['Order Date'])\n",
    "\n",
    "#all_data['Date'] = all_data['Order Date'].str[0:8]   \n",
    "#all_data['Time'] = all_data['Order Date'].str[9:14]\n",
    "\n",
    "#all_data = all_data.drop([\"Date\",\"Time\"], axis=1)\n",
    "#all_data.head()"
   ],
   "execution_count":13,
   "outputs":[
    
   ],
   "metadata":{
    "datalore":{
     "node_id":"X3PPUmqMt7XuBxwn859TcM",
     "type":"CODE",
     "hide_input_from_viewers":true,
     "hide_output_from_viewers":true
    }
   }
  },
  {
   "cell_type":"code",
   "source":[
    "all_data['Order Date'] = pd.to_datetime(all_data['Order Date'])\n",
    "#all_data = all_data.drop('Order', axis=1)"
   ],
   "execution_count":14,
   "outputs":[
    
   ],
   "metadata":{
    "datalore":{
     "node_id":"qCd1VIlMM3EMp85c7FX3Ew",
     "type":"CODE",
     "hide_input_from_viewers":true,
     "hide_output_from_viewers":true
    }
   }
  },
  {
   "cell_type":"code",
   "source":[
    "# เเยก day\/month\/year\n",
    "all_data[\"Day\"] = all_data[\"Order Date\"].dt.day\n",
    "all_data[\"month\"] = all_data[\"Order Date\"].dt.month\n",
    "all_data[\"Year\"] = all_data[\"Order Date\"].dt.year\n",
    "all_data.head()"
   ],
   "execution_count":15,
   "outputs":[
    {
     "data":{
      "text\/html":[
       "<div>\n",
       "<style scoped>\n",
       "    .dataframe tbody tr th:only-of-type {\n",
       "        vertical-align: middle;\n",
       "    }\n",
       "\n",
       "    .dataframe tbody tr th {\n",
       "        vertical-align: top;\n",
       "    }\n",
       "\n",
       "    .dataframe thead th {\n",
       "        text-align: right;\n",
       "    }\n",
       "<\/style>\n",
       "<table border=\"1\" class=\"dataframe\">\n",
       "  <thead>\n",
       "    <tr style=\"text-align: right;\">\n",
       "      <th><\/th>\n",
       "      <th>Order ID<\/th>\n",
       "      <th>Product<\/th>\n",
       "      <th>Quantity Ordered<\/th>\n",
       "      <th>Price Each<\/th>\n",
       "      <th>Order Date<\/th>\n",
       "      <th>Purchase Address<\/th>\n",
       "      <th>Day<\/th>\n",
       "      <th>month<\/th>\n",
       "      <th>Year<\/th>\n",
       "    <\/tr>\n",
       "  <\/thead>\n",
       "  <tbody>\n",
       "    <tr>\n",
       "      <th>0<\/th>\n",
       "      <td>222910<\/td>\n",
       "      <td>Apple Airpods Headphones<\/td>\n",
       "      <td>1<\/td>\n",
       "      <td>150.00<\/td>\n",
       "      <td>2019-07-26 16:51:00<\/td>\n",
       "      <td>389 South St, Atlanta, GA 30301<\/td>\n",
       "      <td>26<\/td>\n",
       "      <td>7<\/td>\n",
       "      <td>2019<\/td>\n",
       "    <\/tr>\n",
       "    <tr>\n",
       "      <th>1<\/th>\n",
       "      <td>222911<\/td>\n",
       "      <td>Flatscreen TV<\/td>\n",
       "      <td>1<\/td>\n",
       "      <td>300.00<\/td>\n",
       "      <td>2019-07-05 08:55:00<\/td>\n",
       "      <td>590 4th St, Seattle, WA 98101<\/td>\n",
       "      <td>5<\/td>\n",
       "      <td>7<\/td>\n",
       "      <td>2019<\/td>\n",
       "    <\/tr>\n",
       "    <tr>\n",
       "      <th>2<\/th>\n",
       "      <td>222912<\/td>\n",
       "      <td>AA Batteries (4-pack)<\/td>\n",
       "      <td>1<\/td>\n",
       "      <td>3.84<\/td>\n",
       "      <td>2019-07-29 12:41:00<\/td>\n",
       "      <td>861 Hill St, Atlanta, GA 30301<\/td>\n",
       "      <td>29<\/td>\n",
       "      <td>7<\/td>\n",
       "      <td>2019<\/td>\n",
       "    <\/tr>\n",
       "    <tr>\n",
       "      <th>3<\/th>\n",
       "      <td>222913<\/td>\n",
       "      <td>AA Batteries (4-pack)<\/td>\n",
       "      <td>1<\/td>\n",
       "      <td>3.84<\/td>\n",
       "      <td>2019-07-28 10:15:00<\/td>\n",
       "      <td>190 Ridge St, Atlanta, GA 30301<\/td>\n",
       "      <td>28<\/td>\n",
       "      <td>7<\/td>\n",
       "      <td>2019<\/td>\n",
       "    <\/tr>\n",
       "    <tr>\n",
       "      <th>4<\/th>\n",
       "      <td>222914<\/td>\n",
       "      <td>AAA Batteries (4-pack)<\/td>\n",
       "      <td>5<\/td>\n",
       "      <td>2.99<\/td>\n",
       "      <td>2019-07-31 02:13:00<\/td>\n",
       "      <td>824 Forest St, Seattle, WA 98101<\/td>\n",
       "      <td>31<\/td>\n",
       "      <td>7<\/td>\n",
       "      <td>2019<\/td>\n",
       "    <\/tr>\n",
       "  <\/tbody>\n",
       "<\/table>\n",
       "<\/div>"
      ]
     },
     "metadata":{
      
     },
     "output_type":"display_data"
    }
   ],
   "metadata":{
    "datalore":{
     "node_id":"ZrN7ypK3VhIhcZ5i2xFsXH",
     "type":"CODE",
     "hide_input_from_viewers":true,
     "hide_output_from_viewers":true
    }
   }
  },
  {
   "cell_type":"markdown",
   "source":[
    "### Task 3: Add a sales column"
   ],
   "attachments":{
    
   },
   "metadata":{
    "datalore":{
     "node_id":"o1ShhdmqN8E3ixJNprft2i",
     "type":"MD",
     "hide_input_from_viewers":true,
     "hide_output_from_viewers":true
    }
   }
  },
  {
   "cell_type":"code",
   "source":[
    "all_data[\"Sales\"] = all_data['Quantity Ordered'] * all_data['Price Each']\n",
    "all_data.head(3)"
   ],
   "execution_count":16,
   "outputs":[
    {
     "data":{
      "text\/html":[
       "<div>\n",
       "<style scoped>\n",
       "    .dataframe tbody tr th:only-of-type {\n",
       "        vertical-align: middle;\n",
       "    }\n",
       "\n",
       "    .dataframe tbody tr th {\n",
       "        vertical-align: top;\n",
       "    }\n",
       "\n",
       "    .dataframe thead th {\n",
       "        text-align: right;\n",
       "    }\n",
       "<\/style>\n",
       "<table border=\"1\" class=\"dataframe\">\n",
       "  <thead>\n",
       "    <tr style=\"text-align: right;\">\n",
       "      <th><\/th>\n",
       "      <th>Order ID<\/th>\n",
       "      <th>Product<\/th>\n",
       "      <th>Quantity Ordered<\/th>\n",
       "      <th>Price Each<\/th>\n",
       "      <th>Order Date<\/th>\n",
       "      <th>Purchase Address<\/th>\n",
       "      <th>Day<\/th>\n",
       "      <th>month<\/th>\n",
       "      <th>Year<\/th>\n",
       "      <th>Sales<\/th>\n",
       "    <\/tr>\n",
       "  <\/thead>\n",
       "  <tbody>\n",
       "    <tr>\n",
       "      <th>0<\/th>\n",
       "      <td>222910<\/td>\n",
       "      <td>Apple Airpods Headphones<\/td>\n",
       "      <td>1<\/td>\n",
       "      <td>150.00<\/td>\n",
       "      <td>2019-07-26 16:51:00<\/td>\n",
       "      <td>389 South St, Atlanta, GA 30301<\/td>\n",
       "      <td>26<\/td>\n",
       "      <td>7<\/td>\n",
       "      <td>2019<\/td>\n",
       "      <td>150.00<\/td>\n",
       "    <\/tr>\n",
       "    <tr>\n",
       "      <th>1<\/th>\n",
       "      <td>222911<\/td>\n",
       "      <td>Flatscreen TV<\/td>\n",
       "      <td>1<\/td>\n",
       "      <td>300.00<\/td>\n",
       "      <td>2019-07-05 08:55:00<\/td>\n",
       "      <td>590 4th St, Seattle, WA 98101<\/td>\n",
       "      <td>5<\/td>\n",
       "      <td>7<\/td>\n",
       "      <td>2019<\/td>\n",
       "      <td>300.00<\/td>\n",
       "    <\/tr>\n",
       "    <tr>\n",
       "      <th>2<\/th>\n",
       "      <td>222912<\/td>\n",
       "      <td>AA Batteries (4-pack)<\/td>\n",
       "      <td>1<\/td>\n",
       "      <td>3.84<\/td>\n",
       "      <td>2019-07-29 12:41:00<\/td>\n",
       "      <td>861 Hill St, Atlanta, GA 30301<\/td>\n",
       "      <td>29<\/td>\n",
       "      <td>7<\/td>\n",
       "      <td>2019<\/td>\n",
       "      <td>3.84<\/td>\n",
       "    <\/tr>\n",
       "  <\/tbody>\n",
       "<\/table>\n",
       "<\/div>"
      ]
     },
     "metadata":{
      
     },
     "output_type":"display_data"
    }
   ],
   "metadata":{
    "datalore":{
     "node_id":"PZad4WkXNyAuSAgcvanboK",
     "type":"CODE",
     "hide_input_from_viewers":true,
     "hide_output_from_viewers":true
    }
   }
  },
  {
   "cell_type":"markdown",
   "source":[
    "#### Task 4: Add a city column\n",
    "การ split data ด้วยตัวพิเศษ เช่น , "
   ],
   "attachments":{
    
   },
   "metadata":{
    "datalore":{
     "node_id":"3dzHhQ3QnMEnWriPpZdowX",
     "type":"MD",
     "hide_input_from_viewers":true,
     "hide_output_from_viewers":true
    }
   }
  },
  {
   "cell_type":"code",
   "source":[
    "# let's use .apply()\n",
    "all_data['City'] = all_data['Purchase Address'].apply(lambda x: x.split(',')[1])\n",
    "all_data.head(2)\n",
    "\n",
    "#all_data = all_data.drop(columns='Column')"
   ],
   "execution_count":17,
   "outputs":[
    {
     "data":{
      "text\/html":[
       "<div>\n",
       "<style scoped>\n",
       "    .dataframe tbody tr th:only-of-type {\n",
       "        vertical-align: middle;\n",
       "    }\n",
       "\n",
       "    .dataframe tbody tr th {\n",
       "        vertical-align: top;\n",
       "    }\n",
       "\n",
       "    .dataframe thead th {\n",
       "        text-align: right;\n",
       "    }\n",
       "<\/style>\n",
       "<table border=\"1\" class=\"dataframe\">\n",
       "  <thead>\n",
       "    <tr style=\"text-align: right;\">\n",
       "      <th><\/th>\n",
       "      <th>Order ID<\/th>\n",
       "      <th>Product<\/th>\n",
       "      <th>Quantity Ordered<\/th>\n",
       "      <th>Price Each<\/th>\n",
       "      <th>Order Date<\/th>\n",
       "      <th>Purchase Address<\/th>\n",
       "      <th>Day<\/th>\n",
       "      <th>month<\/th>\n",
       "      <th>Year<\/th>\n",
       "      <th>Sales<\/th>\n",
       "      <th>City<\/th>\n",
       "    <\/tr>\n",
       "  <\/thead>\n",
       "  <tbody>\n",
       "    <tr>\n",
       "      <th>0<\/th>\n",
       "      <td>222910<\/td>\n",
       "      <td>Apple Airpods Headphones<\/td>\n",
       "      <td>1<\/td>\n",
       "      <td>150.0<\/td>\n",
       "      <td>2019-07-26 16:51:00<\/td>\n",
       "      <td>389 South St, Atlanta, GA 30301<\/td>\n",
       "      <td>26<\/td>\n",
       "      <td>7<\/td>\n",
       "      <td>2019<\/td>\n",
       "      <td>150.0<\/td>\n",
       "      <td>Atlanta<\/td>\n",
       "    <\/tr>\n",
       "    <tr>\n",
       "      <th>1<\/th>\n",
       "      <td>222911<\/td>\n",
       "      <td>Flatscreen TV<\/td>\n",
       "      <td>1<\/td>\n",
       "      <td>300.0<\/td>\n",
       "      <td>2019-07-05 08:55:00<\/td>\n",
       "      <td>590 4th St, Seattle, WA 98101<\/td>\n",
       "      <td>5<\/td>\n",
       "      <td>7<\/td>\n",
       "      <td>2019<\/td>\n",
       "      <td>300.0<\/td>\n",
       "      <td>Seattle<\/td>\n",
       "    <\/tr>\n",
       "  <\/tbody>\n",
       "<\/table>\n",
       "<\/div>"
      ]
     },
     "metadata":{
      
     },
     "output_type":"display_data"
    }
   ],
   "metadata":{
    "datalore":{
     "node_id":"XOjTLQE2cIUMdkoFepWwHf",
     "type":"CODE",
     "hide_input_from_viewers":true,
     "hide_output_from_viewers":true
    }
   }
  },
  {
   "cell_type":"markdown",
   "source":[
    "#### add a city column\n",
    "`def get_city(address):\n",
    "    return address.split(',')[1]\n",
    "all_data['Column'] = all_data['Purchase Address'].apply(lambda x: get_city(x))`\\\n",
    "`x: f\"{get_city(x)} ({get_strate})\"` -> f'str"
   ],
   "attachments":{
    
   },
   "metadata":{
    "datalore":{
     "node_id":"4USe6wDyRDr8CDIN3b9OL9",
     "type":"MD",
     "hide_input_from_viewers":true,
     "hide_output_from_viewers":true
    }
   }
  },
  {
   "cell_type":"markdown",
   "source":[
    "### Question 1: What was the best month for sales? How much was earned that month?"
   ],
   "attachments":{
    
   },
   "metadata":{
    "datalore":{
     "node_id":"CG3yRbEI8EokQKuy9ESwK8",
     "type":"MD",
     "hide_input_from_viewers":true,
     "hide_output_from_viewers":true
    }
   }
  },
  {
   "cell_type":"code",
   "source":[
    "results = all_data.groupby('month').sum()['Sales'].round(2)"
   ],
   "execution_count":18,
   "outputs":[
    {
     "name":"stderr",
     "text":[
      "<ipython-input-18-c4fe83913c63>:1: FutureWarning: The default value of numeric_only in DataFrameGroupBy.sum is deprecated. In a future version, numeric_only will default to False. Either specify numeric_only or select only columns which should be valid for the function.\n",
      "  results = all_data.groupby('month').sum()['Sales'].round(2)\n"
     ],
     "output_type":"stream"
    }
   ],
   "metadata":{
    "datalore":{
     "node_id":"0NqRiIcfUZvg37wFvKBFod",
     "type":"CODE",
     "hide_input_from_viewers":true,
     "hide_output_from_viewers":true
    }
   }
  },
  {
   "cell_type":"code",
   "source":[
    "import matplotlib.pyplot as plt\n",
    "\n",
    "months = range(1,13)\n",
    "\n",
    "plt.bar(months, results)\n",
    "plt.xticks(months)\n",
    "plt.ylabel('Sales in USD ($)')\n",
    "plt.xlabel('month number')\n",
    "plt.show()"
   ],
   "execution_count":19,
   "outputs":[
    {
     "data":{
      "image\/png":"[encoded data removed]"
     },
     "metadata":{
      "image\/png":{
       
      }
     },
     "output_type":"display_data"
    }
   ],
   "metadata":{
    "datalore":{
     "node_id":"crll74thMJ3qrCE1gCn4Rx",
     "type":"CODE",
     "hide_input_from_viewers":true,
     "hide_output_from_viewers":true
    }
   }
  },
  {
   "cell_type":"markdown",
   "source":[
    "### Question 2: What city had the highest number of sales?"
   ],
   "attachments":{
    
   },
   "metadata":{
    "datalore":{
     "node_id":"yAPusGQuJIC1ADbdbUawHI",
     "type":"MD",
     "hide_input_from_viewers":true,
     "hide_output_from_viewers":true
    }
   }
  },
  {
   "cell_type":"code",
   "source":[
    "results = all_data.groupby(\"City\").sum().round(2)\n",
    "\n",
    "results "
   ],
   "execution_count":20,
   "outputs":[
    {
     "name":"stderr",
     "text":[
      "<ipython-input-20-b28044725b57>:1: FutureWarning: The default value of numeric_only in DataFrameGroupBy.sum is deprecated. In a future version, numeric_only will default to False. Either specify numeric_only or select only columns which should be valid for the function.\n",
      "  results = all_data.groupby(\"City\").sum().round(2)\n"
     ],
     "output_type":"stream"
    },
    {
     "data":{
      "text\/html":[
       "<div>\n",
       "<style scoped>\n",
       "    .dataframe tbody tr th:only-of-type {\n",
       "        vertical-align: middle;\n",
       "    }\n",
       "\n",
       "    .dataframe tbody tr th {\n",
       "        vertical-align: top;\n",
       "    }\n",
       "\n",
       "    .dataframe thead th {\n",
       "        text-align: right;\n",
       "    }\n",
       "<\/style>\n",
       "<table border=\"1\" class=\"dataframe\">\n",
       "  <thead>\n",
       "    <tr style=\"text-align: right;\">\n",
       "      <th><\/th>\n",
       "      <th>Quantity Ordered<\/th>\n",
       "      <th>Price Each<\/th>\n",
       "      <th>Day<\/th>\n",
       "      <th>month<\/th>\n",
       "      <th>Year<\/th>\n",
       "      <th>Sales<\/th>\n",
       "    <\/tr>\n",
       "    <tr>\n",
       "      <th>City<\/th>\n",
       "      <th><\/th>\n",
       "      <th><\/th>\n",
       "      <th><\/th>\n",
       "      <th><\/th>\n",
       "      <th><\/th>\n",
       "      <th><\/th>\n",
       "    <\/tr>\n",
       "  <\/thead>\n",
       "  <tbody>\n",
       "    <tr>\n",
       "      <th>Atlanta<\/th>\n",
       "      <td>16602<\/td>\n",
       "      <td>2779908.20<\/td>\n",
       "      <td>234837<\/td>\n",
       "      <td>104794<\/td>\n",
       "      <td>30044739<\/td>\n",
       "      <td>2795498.58<\/td>\n",
       "    <\/tr>\n",
       "    <tr>\n",
       "      <th>Austin<\/th>\n",
       "      <td>11153<\/td>\n",
       "      <td>1809873.61<\/td>\n",
       "      <td>156782<\/td>\n",
       "      <td>69829<\/td>\n",
       "      <td>19998197<\/td>\n",
       "      <td>1819581.75<\/td>\n",
       "    <\/tr>\n",
       "    <tr>\n",
       "      <th>Boston<\/th>\n",
       "      <td>22528<\/td>\n",
       "      <td>3637409.77<\/td>\n",
       "      <td>312376<\/td>\n",
       "      <td>141112<\/td>\n",
       "      <td>40246750<\/td>\n",
       "      <td>3661642.01<\/td>\n",
       "    <\/tr>\n",
       "    <tr>\n",
       "      <th>Dallas<\/th>\n",
       "      <td>16730<\/td>\n",
       "      <td>2752627.82<\/td>\n",
       "      <td>234435<\/td>\n",
       "      <td>104620<\/td>\n",
       "      <td>29921582<\/td>\n",
       "      <td>2767975.40<\/td>\n",
       "    <\/tr>\n",
       "    <tr>\n",
       "      <th>Los Angeles<\/th>\n",
       "      <td>33289<\/td>\n",
       "      <td>5421435.23<\/td>\n",
       "      <td>469607<\/td>\n",
       "      <td>208325<\/td>\n",
       "      <td>59772496<\/td>\n",
       "      <td>5452570.80<\/td>\n",
       "    <\/tr>\n",
       "    <tr>\n",
       "      <th>New York City<\/th>\n",
       "      <td>27932<\/td>\n",
       "      <td>4635370.83<\/td>\n",
       "      <td>392706<\/td>\n",
       "      <td>175741<\/td>\n",
       "      <td>50224654<\/td>\n",
       "      <td>4664317.43<\/td>\n",
       "    <\/tr>\n",
       "    <tr>\n",
       "      <th>Portland<\/th>\n",
       "      <td>14053<\/td>\n",
       "      <td>2307747.47<\/td>\n",
       "      <td>197521<\/td>\n",
       "      <td>87765<\/td>\n",
       "      <td>25166837<\/td>\n",
       "      <td>2320490.61<\/td>\n",
       "    <\/tr>\n",
       "    <tr>\n",
       "      <th>San Francisco<\/th>\n",
       "      <td>50239<\/td>\n",
       "      <td>8211461.74<\/td>\n",
       "      <td>702669<\/td>\n",
       "      <td>315520<\/td>\n",
       "      <td>90313920<\/td>\n",
       "      <td>8262203.91<\/td>\n",
       "    <\/tr>\n",
       "    <tr>\n",
       "      <th>Seattle<\/th>\n",
       "      <td>16553<\/td>\n",
       "      <td>2733296.01<\/td>\n",
       "      <td>229552<\/td>\n",
       "      <td>104941<\/td>\n",
       "      <td>29743909<\/td>\n",
       "      <td>2747755.48<\/td>\n",
       "    <\/tr>\n",
       "  <\/tbody>\n",
       "<\/table>\n",
       "<\/div>"
      ]
     },
     "metadata":{
      
     },
     "output_type":"display_data"
    }
   ],
   "metadata":{
    "datalore":{
     "node_id":"2xv7SAV1VDQP2EwLIYHkuN",
     "type":"CODE",
     "hide_input_from_viewers":true,
     "hide_output_from_viewers":true
    }
   }
  },
  {
   "cell_type":"code",
   "source":[
    "cities = [ city for city ,df in all_data.groupby('City') ]\n",
    "\n",
    "plt.bar(cities, results['Sales'])\n",
    "plt.xticks(cities, rotation = 'vertical', size = 8)\n",
    "plt.ylabel('Sales in USD ($)')\n",
    "plt.xlabel('City name')\n",
    "plt.show()"
   ],
   "execution_count":21,
   "outputs":[
    {
     "data":{
      "image\/png":"[encoded data removed]"
     },
     "metadata":{
      "image\/png":{
       
      }
     },
     "output_type":"display_data"
    }
   ],
   "metadata":{
    "datalore":{
     "node_id":"x9fmh64O1qd1nZ5EPeNB67",
     "type":"CODE",
     "hide_input_from_viewers":true,
     "hide_output_from_viewers":true
    }
   }
  },
  {
   "cell_type":"markdown",
   "source":[
    "### Question 3: What time should we display advertisements to maximize likelhood of customer's buying product"
   ],
   "attachments":{
    
   },
   "metadata":{
    "datalore":{
     "node_id":"OVAHmw3FKbdy8Nr2gPhnWG",
     "type":"MD",
     "hide_input_from_viewers":true,
     "hide_output_from_viewers":true
    }
   }
  },
  {
   "cell_type":"code",
   "source":[
    "all_data[\"Hour\"] = all_data[\"Order Date\"].dt.hour\n",
    "all_data[\"Minute\"] = all_data[\"Order Date\"].dt.minute\n",
    "\n",
    "all_data.head()"
   ],
   "execution_count":22,
   "outputs":[
    {
     "data":{
      "text\/html":[
       "<div>\n",
       "<style scoped>\n",
       "    .dataframe tbody tr th:only-of-type {\n",
       "        vertical-align: middle;\n",
       "    }\n",
       "\n",
       "    .dataframe tbody tr th {\n",
       "        vertical-align: top;\n",
       "    }\n",
       "\n",
       "    .dataframe thead th {\n",
       "        text-align: right;\n",
       "    }\n",
       "<\/style>\n",
       "<table border=\"1\" class=\"dataframe\">\n",
       "  <thead>\n",
       "    <tr style=\"text-align: right;\">\n",
       "      <th><\/th>\n",
       "      <th>Order ID<\/th>\n",
       "      <th>Product<\/th>\n",
       "      <th>Quantity Ordered<\/th>\n",
       "      <th>Price Each<\/th>\n",
       "      <th>Order Date<\/th>\n",
       "      <th>Purchase Address<\/th>\n",
       "      <th>Day<\/th>\n",
       "      <th>month<\/th>\n",
       "      <th>Year<\/th>\n",
       "      <th>Sales<\/th>\n",
       "      <th>City<\/th>\n",
       "      <th>Hour<\/th>\n",
       "      <th>Minute<\/th>\n",
       "    <\/tr>\n",
       "  <\/thead>\n",
       "  <tbody>\n",
       "    <tr>\n",
       "      <th>0<\/th>\n",
       "      <td>222910<\/td>\n",
       "      <td>Apple Airpods Headphones<\/td>\n",
       "      <td>1<\/td>\n",
       "      <td>150.00<\/td>\n",
       "      <td>2019-07-26 16:51:00<\/td>\n",
       "      <td>389 South St, Atlanta, GA 30301<\/td>\n",
       "      <td>26<\/td>\n",
       "      <td>7<\/td>\n",
       "      <td>2019<\/td>\n",
       "      <td>150.00<\/td>\n",
       "      <td>Atlanta<\/td>\n",
       "      <td>16<\/td>\n",
       "      <td>51<\/td>\n",
       "    <\/tr>\n",
       "    <tr>\n",
       "      <th>1<\/th>\n",
       "      <td>222911<\/td>\n",
       "      <td>Flatscreen TV<\/td>\n",
       "      <td>1<\/td>\n",
       "      <td>300.00<\/td>\n",
       "      <td>2019-07-05 08:55:00<\/td>\n",
       "      <td>590 4th St, Seattle, WA 98101<\/td>\n",
       "      <td>5<\/td>\n",
       "      <td>7<\/td>\n",
       "      <td>2019<\/td>\n",
       "      <td>300.00<\/td>\n",
       "      <td>Seattle<\/td>\n",
       "      <td>8<\/td>\n",
       "      <td>55<\/td>\n",
       "    <\/tr>\n",
       "    <tr>\n",
       "      <th>2<\/th>\n",
       "      <td>222912<\/td>\n",
       "      <td>AA Batteries (4-pack)<\/td>\n",
       "      <td>1<\/td>\n",
       "      <td>3.84<\/td>\n",
       "      <td>2019-07-29 12:41:00<\/td>\n",
       "      <td>861 Hill St, Atlanta, GA 30301<\/td>\n",
       "      <td>29<\/td>\n",
       "      <td>7<\/td>\n",
       "      <td>2019<\/td>\n",
       "      <td>3.84<\/td>\n",
       "      <td>Atlanta<\/td>\n",
       "      <td>12<\/td>\n",
       "      <td>41<\/td>\n",
       "    <\/tr>\n",
       "    <tr>\n",
       "      <th>3<\/th>\n",
       "      <td>222913<\/td>\n",
       "      <td>AA Batteries (4-pack)<\/td>\n",
       "      <td>1<\/td>\n",
       "      <td>3.84<\/td>\n",
       "      <td>2019-07-28 10:15:00<\/td>\n",
       "      <td>190 Ridge St, Atlanta, GA 30301<\/td>\n",
       "      <td>28<\/td>\n",
       "      <td>7<\/td>\n",
       "      <td>2019<\/td>\n",
       "      <td>3.84<\/td>\n",
       "      <td>Atlanta<\/td>\n",
       "      <td>10<\/td>\n",
       "      <td>15<\/td>\n",
       "    <\/tr>\n",
       "    <tr>\n",
       "      <th>4<\/th>\n",
       "      <td>222914<\/td>\n",
       "      <td>AAA Batteries (4-pack)<\/td>\n",
       "      <td>5<\/td>\n",
       "      <td>2.99<\/td>\n",
       "      <td>2019-07-31 02:13:00<\/td>\n",
       "      <td>824 Forest St, Seattle, WA 98101<\/td>\n",
       "      <td>31<\/td>\n",
       "      <td>7<\/td>\n",
       "      <td>2019<\/td>\n",
       "      <td>14.95<\/td>\n",
       "      <td>Seattle<\/td>\n",
       "      <td>2<\/td>\n",
       "      <td>13<\/td>\n",
       "    <\/tr>\n",
       "  <\/tbody>\n",
       "<\/table>\n",
       "<\/div>"
      ]
     },
     "metadata":{
      
     },
     "output_type":"display_data"
    }
   ],
   "metadata":{
    "datalore":{
     "node_id":"eBAawEckZCfhzNOgh3kHBA",
     "type":"CODE",
     "hide_input_from_viewers":true,
     "hide_output_from_viewers":true
    }
   }
  },
  {
   "cell_type":"code",
   "source":[
    "hours = [hour for hour , df in all_data.groupby('Hour')]\n",
    "\n",
    "plt.plot( hours, all_data.groupby(['Hour']).count() )\n",
    "\n",
    "all_data.groupby(['Hour']).count()['City']"
   ],
   "execution_count":23,
   "outputs":[
    {
     "data":{
      "text\/html":[
       "<pre>Hour\n",
       "0      3910\n",
       "1      2350\n",
       "2      1243\n",
       "3       831\n",
       "4       854\n",
       "5      1321\n",
       "6      2482\n",
       "7      4011\n",
       "8      6256\n",
       "9      8748\n",
       "10    10944\n",
       "11    12411\n",
       "12    12587\n",
       "13    12129\n",
       "14    10984\n",
       "15    10175\n",
       "16    10384\n",
       "17    10899\n",
       "18    12280\n",
       "19    12905\n",
       "20    12228\n",
       "21    10921\n",
       "22     8822\n",
       "23     6275\n",
       "Name: City, dtype: int64<\/pre>"
      ]
     },
     "metadata":{
      
     },
     "output_type":"display_data"
    },
    {
     "data":{
      "image\/png":"[encoded data removed]"
     },
     "metadata":{
      "image\/png":{
       
      }
     },
     "output_type":"display_data"
    }
   ],
   "metadata":{
    "datalore":{
     "node_id":"2bC4CvLBxKz2m7pRx3FcdW",
     "type":"CODE",
     "hide_input_from_viewers":true,
     "hide_output_from_viewers":true
    }
   }
  },
  {
   "cell_type":"code",
   "source":[
    "plt.plot( hours, all_data.groupby(['Hour']).count() )\n",
    "plt.xticks(hours) # ถ้าไม่ใส่่่ hours จะเป็นค่าตั้งต้นท่ไม่ละเอียด\n",
    "plt.xlabel(\"Hour\")\n",
    "plt.ylabel(\"Number of Orders\")\n",
    "plt.grid()\n",
    "plt.show()\n",
    "\n",
    "# My recommendation is around 11 am(11) or 7 pm(19)"
   ],
   "execution_count":24,
   "outputs":[
    {
     "data":{
      "image\/png":"[encoded data removed]"
     },
     "metadata":{
      "image\/png":{
       
      }
     },
     "output_type":"display_data"
    }
   ],
   "metadata":{
    "datalore":{
     "node_id":"1y7iyiQteJahqWJ4yayM1O",
     "type":"CODE",
     "hide_input_from_viewers":true,
     "hide_output_from_viewers":true
    }
   }
  },
  {
   "cell_type":"markdown",
   "source":[
    "### Question 4: What products are most often sold together? "
   ],
   "attachments":{
    
   },
   "metadata":{
    "datalore":{
     "node_id":"nmpM2z5pfmFOuo0hlzqkJM",
     "type":"MD",
     "hide_input_from_viewers":true,
     "hide_output_from_viewers":true
    }
   }
  },
  {
   "cell_type":"code",
   "source":[
    "df = all_data[ all_data['Order ID'].duplicated(keep=False) ]\n",
    "\n",
    "df.head()"
   ],
   "execution_count":25,
   "outputs":[
    {
     "data":{
      "text\/html":[
       "<div>\n",
       "<style scoped>\n",
       "    .dataframe tbody tr th:only-of-type {\n",
       "        vertical-align: middle;\n",
       "    }\n",
       "\n",
       "    .dataframe tbody tr th {\n",
       "        vertical-align: top;\n",
       "    }\n",
       "\n",
       "    .dataframe thead th {\n",
       "        text-align: right;\n",
       "    }\n",
       "<\/style>\n",
       "<table border=\"1\" class=\"dataframe\">\n",
       "  <thead>\n",
       "    <tr style=\"text-align: right;\">\n",
       "      <th><\/th>\n",
       "      <th>Order ID<\/th>\n",
       "      <th>Product<\/th>\n",
       "      <th>Quantity Ordered<\/th>\n",
       "      <th>Price Each<\/th>\n",
       "      <th>Order Date<\/th>\n",
       "      <th>Purchase Address<\/th>\n",
       "      <th>Day<\/th>\n",
       "      <th>month<\/th>\n",
       "      <th>Year<\/th>\n",
       "      <th>Sales<\/th>\n",
       "      <th>City<\/th>\n",
       "      <th>Hour<\/th>\n",
       "      <th>Minute<\/th>\n",
       "    <\/tr>\n",
       "  <\/thead>\n",
       "  <tbody>\n",
       "    <tr>\n",
       "      <th>118<\/th>\n",
       "      <td>223028<\/td>\n",
       "      <td>Vareebadd Phone<\/td>\n",
       "      <td>1<\/td>\n",
       "      <td>400.00<\/td>\n",
       "      <td>2019-07-07 10:21:00<\/td>\n",
       "      <td>969 10th St, San Francisco, CA 94016<\/td>\n",
       "      <td>7<\/td>\n",
       "      <td>7<\/td>\n",
       "      <td>2019<\/td>\n",
       "      <td>400.00<\/td>\n",
       "      <td>San Francisco<\/td>\n",
       "      <td>10<\/td>\n",
       "      <td>21<\/td>\n",
       "    <\/tr>\n",
       "    <tr>\n",
       "      <th>119<\/th>\n",
       "      <td>223028<\/td>\n",
       "      <td>USB-C Charging Cable<\/td>\n",
       "      <td>2<\/td>\n",
       "      <td>11.95<\/td>\n",
       "      <td>2019-07-07 10:21:00<\/td>\n",
       "      <td>969 10th St, San Francisco, CA 94016<\/td>\n",
       "      <td>7<\/td>\n",
       "      <td>7<\/td>\n",
       "      <td>2019<\/td>\n",
       "      <td>23.90<\/td>\n",
       "      <td>San Francisco<\/td>\n",
       "      <td>10<\/td>\n",
       "      <td>21<\/td>\n",
       "    <\/tr>\n",
       "    <tr>\n",
       "      <th>120<\/th>\n",
       "      <td>223028<\/td>\n",
       "      <td>Wired Headphones<\/td>\n",
       "      <td>1<\/td>\n",
       "      <td>11.99<\/td>\n",
       "      <td>2019-07-07 10:21:00<\/td>\n",
       "      <td>969 10th St, San Francisco, CA 94016<\/td>\n",
       "      <td>7<\/td>\n",
       "      <td>7<\/td>\n",
       "      <td>2019<\/td>\n",
       "      <td>11.99<\/td>\n",
       "      <td>San Francisco<\/td>\n",
       "      <td>10<\/td>\n",
       "      <td>21<\/td>\n",
       "    <\/tr>\n",
       "    <tr>\n",
       "      <th>140<\/th>\n",
       "      <td>223048<\/td>\n",
       "      <td>Vareebadd Phone<\/td>\n",
       "      <td>1<\/td>\n",
       "      <td>400.00<\/td>\n",
       "      <td>2019-07-21 17:19:00<\/td>\n",
       "      <td>168 8th St, Portland, OR 97035<\/td>\n",
       "      <td>21<\/td>\n",
       "      <td>7<\/td>\n",
       "      <td>2019<\/td>\n",
       "      <td>400.00<\/td>\n",
       "      <td>Portland<\/td>\n",
       "      <td>17<\/td>\n",
       "      <td>19<\/td>\n",
       "    <\/tr>\n",
       "    <tr>\n",
       "      <th>141<\/th>\n",
       "      <td>223048<\/td>\n",
       "      <td>USB-C Charging Cable<\/td>\n",
       "      <td>2<\/td>\n",
       "      <td>11.95<\/td>\n",
       "      <td>2019-07-21 17:19:00<\/td>\n",
       "      <td>168 8th St, Portland, OR 97035<\/td>\n",
       "      <td>21<\/td>\n",
       "      <td>7<\/td>\n",
       "      <td>2019<\/td>\n",
       "      <td>23.90<\/td>\n",
       "      <td>Portland<\/td>\n",
       "      <td>17<\/td>\n",
       "      <td>19<\/td>\n",
       "    <\/tr>\n",
       "  <\/tbody>\n",
       "<\/table>\n",
       "<\/div>"
      ]
     },
     "metadata":{
      
     },
     "output_type":"display_data"
    }
   ],
   "metadata":{
    "datalore":{
     "node_id":"pYpbYEhYJKmdS1V5TrFQs3",
     "type":"CODE",
     "hide_input_from_viewers":true,
     "hide_output_from_viewers":true
    }
   }
  },
  {
   "cell_type":"code",
   "source":[
    "df['Grouped'] = df.groupby(\"Order ID\")['Product'].transform(lambda x: ','.join(x) )\n",
    "df = df[[\"Order ID\",\"Grouped\"]].drop_duplicates()"
   ],
   "execution_count":26,
   "outputs":[
    {
     "name":"stderr",
     "text":[
      "<ipython-input-26-32af9e3b4bfd>:1: SettingWithCopyWarning: \n",
      "A value is trying to be set on a copy of a slice from a DataFrame.\n",
      "Try using .loc[row_indexer,col_indexer] = value instead\n",
      "\n",
      "See the caveats in the documentation: https:\/\/pandas.pydata.org\/pandas-docs\/stable\/user_guide\/indexing.html#returning-a-view-versus-a-copy\n",
      "  df['Grouped'] = df.groupby(\"Order ID\")['Product'].transform(lambda x: ','.join(x) )\n"
     ],
     "output_type":"stream"
    }
   ],
   "metadata":{
    "datalore":{
     "node_id":"Nr84DrxgeBHwOtk8XQJiOE",
     "type":"CODE",
     "hide_input_from_viewers":true,
     "hide_output_from_viewers":true
    }
   }
  },
  {
   "cell_type":"code",
   "source":[
    "#df"
   ],
   "execution_count":27,
   "outputs":[
    
   ],
   "metadata":{
    "datalore":{
     "node_id":"YZxm210rnACh0gelz0wPEa",
     "type":"CODE",
     "hide_input_from_viewers":true,
     "hide_output_from_viewers":true
    }
   }
  },
  {
   "cell_type":"code",
   "source":[
    "# Referenced : https:\/\/stackoverflow.com\/questions\/52195887\/counting-unique-pairs-of-numbers-into-a-python-dictionary\n",
    "from itertools import combinations\n",
    "from collections import Counter\n",
    "\n",
    "count = Counter()\n",
    "for row in df[\"Grouped\"]:\n",
    "    row_list = row.split(',')\n",
    "    count.update(Counter(combinations(row_list, 2))) # เลข2 คือจำนวน Product ที่ซื้อร่วมกันเปลี่ยนเป็น 3 ได้ ก็จะเเสดง3 ชิ้น\n",
    "\n",
    "print(count) # ลองปิด-เปิด ได้"
   ],
   "execution_count":28,
   "outputs":[
    {
     "name":"stdout",
     "text":[
      "Counter({('iPhone', 'Lightning Charging Cable'): 1005, ('Google Phone', 'USB-C Charging Cable'): 987, ('iPhone', 'Wired Headphones'): 447, ('Google Phone', 'Wired Headphones'): 414, ('Vareebadd Phone', 'USB-C Charging Cable'): 361, ('iPhone', 'Apple Airpods Headphones'): 360, ('Google Phone', 'Bose SoundSport Headphones'): 220, ('USB-C Charging Cable', 'Wired Headphones'): 160, ('Vareebadd Phone', 'Wired Headphones'): 143, ('Lightning Charging Cable', 'Wired Headphones'): 92, ('Lightning Charging Cable', 'Apple Airpods Headphones'): 81, ('Vareebadd Phone', 'Bose SoundSport Headphones'): 80, ('USB-C Charging Cable', 'Bose SoundSport Headphones'): 77, ('Apple Airpods Headphones', 'Wired Headphones'): 69, ('Lightning Charging Cable', 'USB-C Charging Cable'): 58, ('Lightning Charging Cable', 'AA Batteries (4-pack)'): 55, ('Lightning Charging Cable', 'Lightning Charging Cable'): 54, ('Bose SoundSport Headphones', 'Wired Headphones'): 53, ('AA Batteries (4-pack)', 'Lightning Charging Cable'): 51, ('AAA Batteries (4-pack)', 'USB-C Charging Cable'): 50, ('AA Batteries (4-pack)', 'AAA Batteries (4-pack)'): 48, ('AAA Batteries (4-pack)', 'AAA Batteries (4-pack)'): 48, ('USB-C Charging Cable', 'USB-C Charging Cable'): 48, ('Apple Airpods Headphones', 'AAA Batteries (4-pack)'): 48, ('Wired Headphones', 'USB-C Charging Cable'): 45, ('USB-C Charging Cable', 'AAA Batteries (4-pack)'): 45, ('AA Batteries (4-pack)', 'Wired Headphones'): 44, ('AAA Batteries (4-pack)', 'Lightning Charging Cable'): 44, ('Wired Headphones', 'AAA Batteries (4-pack)'): 43, ('AAA Batteries (4-pack)', 'Wired Headphones'): 43, ('USB-C Charging Cable', 'Lightning Charging Cable'): 42, ('AA Batteries (4-pack)', 'Apple Airpods Headphones'): 41, ('AAA Batteries (4-pack)', 'AA Batteries (4-pack)'): 39, ('Lightning Charging Cable', 'Bose SoundSport Headphones'): 39, ('Wired Headphones', 'AA Batteries (4-pack)'): 39, ('USB-C Charging Cable', 'AA Batteries (4-pack)'): 38, ('Bose SoundSport Headphones', 'AAA Batteries (4-pack)'): 37, ('AA Batteries (4-pack)', 'USB-C Charging Cable'): 37, ('Wired Headphones', 'Lightning Charging Cable'): 37, ('Lightning Charging Cable', 'AAA Batteries (4-pack)'): 36, ('Wired Headphones', 'Wired Headphones'): 35, ('AA Batteries (4-pack)', 'AA Batteries (4-pack)'): 35, ('Apple Airpods Headphones', 'Lightning Charging Cable'): 35, ('USB-C Charging Cable', 'Apple Airpods Headphones'): 34, ('AAA Batteries (4-pack)', 'Apple Airpods Headphones'): 33, ('Bose SoundSport Headphones', 'Lightning Charging Cable'): 33, ('Apple Airpods Headphones', 'Bose SoundSport Headphones'): 32, ('USB-C Charging Cable', '27in FHD Monitor'): 31, ('Wired Headphones', 'Apple Airpods Headphones'): 31, ('Apple Airpods Headphones', 'AA Batteries (4-pack)'): 29, ('Apple Airpods Headphones', 'USB-C Charging Cable'): 29, ('AA Batteries (4-pack)', 'Bose SoundSport Headphones'): 28, ('Bose SoundSport Headphones', 'AA Batteries (4-pack)'): 27, ('Bose SoundSport Headphones', 'Bose SoundSport Headphones'): 27, ('Bose SoundSport Headphones', 'USB-C Charging Cable'): 25, ('Apple Airpods Headphones', 'Apple Airpods Headphones'): 24, ('AAA Batteries (4-pack)', '27in FHD Monitor'): 22, ('Wired Headphones', 'Bose SoundSport Headphones'): 21, ('27in FHD Monitor', 'AAA Batteries (4-pack)'): 21, ('AAA Batteries (4-pack)', 'Bose SoundSport Headphones'): 20, ('34in Ultrawide Monitor', 'AA Batteries (4-pack)'): 19, ('Bose SoundSport Headphones', 'Apple Airpods Headphones'): 18, ('34in Ultrawide Monitor', 'Lightning Charging Cable'): 18, ('27in FHD Monitor', 'Lightning Charging Cable'): 18, ('Lightning Charging Cable', '27in FHD Monitor'): 18, ('Wired Headphones', '27in 4K Gaming Monitor'): 18, ('Lightning Charging Cable', '27in 4K Gaming Monitor'): 18, ('AA Batteries (4-pack)', 'iPhone'): 18, ('iPhone', 'AAA Batteries (4-pack)'): 17, ('Wired Headphones', '34in Ultrawide Monitor'): 17, ('ThinkPad Laptop', 'AAA Batteries (4-pack)'): 16, ('Lightning Charging Cable', 'Google Phone'): 16, ('27in 4K Gaming Monitor', 'Lightning Charging Cable'): 16, ('Lightning Charging Cable', '20in Monitor'): 15, ('27in FHD Monitor', 'AA Batteries (4-pack)'): 15, ('Wired Headphones', 'iPhone'): 15, ('34in Ultrawide Monitor', 'USB-C Charging Cable'): 15, ('Lightning Charging Cable', '34in Ultrawide Monitor'): 15, ('27in 4K Gaming Monitor', 'AAA Batteries (4-pack)'): 15, ('iPhone', 'USB-C Charging Cable'): 15, ('20in Monitor', 'USB-C Charging Cable'): 15, ('AAA Batteries (4-pack)', '27in 4K Gaming Monitor'): 15, ('iPhone', 'AA Batteries (4-pack)'): 14, ('AAA Batteries (4-pack)', 'iPhone'): 14, ('AA Batteries (4-pack)', '27in 4K Gaming Monitor'): 14, ('USB-C Charging Cable', 'iPhone'): 14, ('Google Phone', 'AA Batteries (4-pack)'): 14, ('Bose SoundSport Headphones', '27in FHD Monitor'): 14, ('Apple Airpods Headphones', 'Google Phone'): 14, ('AA Batteries (4-pack)', 'Flatscreen TV'): 13, ('Wired Headphones', 'Macbook Pro Laptop'): 13, ('AA Batteries (4-pack)', '34in Ultrawide Monitor'): 13, ('Apple Airpods Headphones', 'iPhone'): 13, ('AAA Batteries (4-pack)', '34in Ultrawide Monitor'): 13, ('Macbook Pro Laptop', 'USB-C Charging Cable'): 12, ('27in FHD Monitor', 'USB-C Charging Cable'): 12, ('Google Phone', 'Lightning Charging Cable'): 12, ('Wired Headphones', '27in FHD Monitor'): 12, ('Apple Airpods Headphones', '27in 4K Gaming Monitor'): 12, ('27in FHD Monitor', 'Bose SoundSport Headphones'): 12, ('34in Ultrawide Monitor', 'AAA Batteries (4-pack)'): 12, ('USB-C Charging Cable', 'Google Phone'): 12, ('27in FHD Monitor', 'Apple Airpods Headphones'): 12, ('20in Monitor', 'Wired Headphones'): 12, ('27in 4K Gaming Monitor', 'AA Batteries (4-pack)'): 12, ('Apple Airpods Headphones', 'Macbook Pro Laptop'): 12, ('Lightning Charging Cable', 'Flatscreen TV'): 12, ('27in 4K Gaming Monitor', 'USB-C Charging Cable'): 12, ('Apple Airpods Headphones', '27in FHD Monitor'): 12, ('AA Batteries (4-pack)', '27in FHD Monitor'): 11, ('20in Monitor', 'Lightning Charging Cable'): 11, ('ThinkPad Laptop', 'Lightning Charging Cable'): 11, ('AA Batteries (4-pack)', 'Google Phone'): 11, ('27in 4K Gaming Monitor', 'Wired Headphones'): 11, ('Macbook Pro Laptop', 'Bose SoundSport Headphones'): 11, ('AAA Batteries (4-pack)', 'Google Phone'): 11, ('USB-C Charging Cable', '34in Ultrawide Monitor'): 11, ('USB-C Charging Cable', 'ThinkPad Laptop'): 11, ('AAA Batteries (4-pack)', 'Macbook Pro Laptop'): 11, ('USB-C Charging Cable', '27in 4K Gaming Monitor'): 11, ('34in Ultrawide Monitor', 'Wired Headphones'): 11, ('Bose SoundSport Headphones', '34in Ultrawide Monitor'): 11, ('Flatscreen TV', 'AAA Batteries (4-pack)'): 11, ('AAA Batteries (4-pack)', 'ThinkPad Laptop'): 11, ('Macbook Pro Laptop', 'Lightning Charging Cable'): 11, ('Google Phone', 'AAA Batteries (4-pack)'): 11, ('27in FHD Monitor', 'Wired Headphones'): 10, ('Wired Headphones', 'ThinkPad Laptop'): 10, ('AAA Batteries (4-pack)', 'Flatscreen TV'): 10, ('Flatscreen TV', 'Lightning Charging Cable'): 10, ('27in 4K Gaming Monitor', 'Apple Airpods Headphones'): 10, ('USB-C Charging Cable', '20in Monitor'): 10, ('Lightning Charging Cable', 'Macbook Pro Laptop'): 10, ('Lightning Charging Cable', 'iPhone'): 10, ('Bose SoundSport Headphones', '27in 4K Gaming Monitor'): 10, ('Bose SoundSport Headphones', 'Flatscreen TV'): 10, ('AA Batteries (4-pack)', '20in Monitor'): 10, ('USB-C Charging Cable', 'Flatscreen TV'): 10, ('USB-C Charging Cable', 'Macbook Pro Laptop'): 9, ('27in 4K Gaming Monitor', 'Bose SoundSport Headphones'): 9, ('ThinkPad Laptop', 'USB-C Charging Cable'): 9, ('27in FHD Monitor', '27in FHD Monitor'): 9, ('Macbook Pro Laptop', 'AA Batteries (4-pack)'): 9, ('Apple Airpods Headphones', 'ThinkPad Laptop'): 9, ('Wired Headphones', 'Google Phone'): 9, ('ThinkPad Laptop', 'Bose SoundSport Headphones'): 9, ('20in Monitor', 'Bose SoundSport Headphones'): 9, ('AA Batteries (4-pack)', 'ThinkPad Laptop'): 9, ('Lightning Charging Cable', 'ThinkPad Laptop'): 9, ('Vareebadd Phone', 'AA Batteries (4-pack)'): 9, ('34in Ultrawide Monitor', 'Apple Airpods Headphones'): 8, ('ThinkPad Laptop', 'AA Batteries (4-pack)'): 8, ('Bose SoundSport Headphones', 'Google Phone'): 8, ('Flatscreen TV', 'AA Batteries (4-pack)'): 8, ('Apple Airpods Headphones', 'Flatscreen TV'): 8, ('AAA Batteries (4-pack)', '20in Monitor'): 8, ('AA Batteries (4-pack)', 'Macbook Pro Laptop'): 8, ('20in Monitor', 'Apple Airpods Headphones'): 7, ('Google Phone', 'Apple Airpods Headphones'): 7, ('ThinkPad Laptop', 'Apple Airpods Headphones'): 7, ('Macbook Pro Laptop', 'AAA Batteries (4-pack)'): 7, ('34in Ultrawide Monitor', 'iPhone'): 7, ('Flatscreen TV', 'USB-C Charging Cable'): 7, ('Google Phone', '27in FHD Monitor'): 7, ('34in Ultrawide Monitor', '34in Ultrawide Monitor'): 7, ('Wired Headphones', 'Flatscreen TV'): 7, ('Bose SoundSport Headphones', 'iPhone'): 7, ('USB-C Charging Cable', 'Vareebadd Phone'): 7, ('Macbook Pro Laptop', 'Apple Airpods Headphones'): 7, ('Wired Headphones', '20in Monitor'): 7, ('Macbook Pro Laptop', 'Wired Headphones'): 7, ('Macbook Pro Laptop', '27in 4K Gaming Monitor'): 7, ('Wired Headphones', 'Vareebadd Phone'): 6, ('34in Ultrawide Monitor', 'Bose SoundSport Headphones'): 6, ('27in FHD Monitor', 'Macbook Pro Laptop'): 6, ('27in 4K Gaming Monitor', 'Macbook Pro Laptop'): 6, ('Apple Airpods Headphones', '34in Ultrawide Monitor'): 6, ('Bose SoundSport Headphones', '20in Monitor'): 6, ('20in Monitor', 'AA Batteries (4-pack)'): 6, ('Google Phone', 'iPhone'): 6, ('Apple Airpods Headphones', 'Vareebadd Phone'): 6, ('27in 4K Gaming Monitor', '34in Ultrawide Monitor'): 6, ('iPhone', 'Flatscreen TV'): 6, ('iPhone', '27in 4K Gaming Monitor'): 6, ('Flatscreen TV', 'Flatscreen TV'): 6, ('Vareebadd Phone', 'Apple Airpods Headphones'): 6, ('Apple Airpods Headphones', '20in Monitor'): 6, ('iPhone', '34in Ultrawide Monitor'): 6, ('34in Ultrawide Monitor', '27in FHD Monitor'): 5, ('Flatscreen TV', '34in Ultrawide Monitor'): 5, ('iPhone', 'Bose SoundSport Headphones'): 5, ('Flatscreen TV', 'Apple Airpods Headphones'): 5, ('27in FHD Monitor', '34in Ultrawide Monitor'): 5, ('27in 4K Gaming Monitor', '27in 4K Gaming Monitor'): 5, ('27in 4K Gaming Monitor', 'Google Phone'): 5, ('ThinkPad Laptop', 'Flatscreen TV'): 4, ('AAA Batteries (4-pack)', 'Vareebadd Phone'): 4, ('Bose SoundSport Headphones', 'Macbook Pro Laptop'): 4, ('Flatscreen TV', '27in FHD Monitor'): 4, ('LG Dryer', 'AA Batteries (4-pack)'): 4, ('27in FHD Monitor', '27in 4K Gaming Monitor'): 4, ('Flatscreen TV', 'Wired Headphones'): 4, ('Macbook Pro Laptop', 'Google Phone'): 4, ('Lightning Charging Cable', 'LG Washing Machine'): 4, ('27in FHD Monitor', 'ThinkPad Laptop'): 4, ('Bose SoundSport Headphones', 'ThinkPad Laptop'): 4, ('Vareebadd Phone', '34in Ultrawide Monitor'): 4, ('Flatscreen TV', 'iPhone'): 4, ('Vareebadd Phone', 'Google Phone'): 4, ('iPhone', 'ThinkPad Laptop'): 4, ('Macbook Pro Laptop', '34in Ultrawide Monitor'): 4, ('Flatscreen TV', 'Macbook Pro Laptop'): 4, ('20in Monitor', 'Macbook Pro Laptop'): 4, ('27in 4K Gaming Monitor', 'ThinkPad Laptop'): 4, ('iPhone', 'Vareebadd Phone'): 4, ('ThinkPad Laptop', 'Wired Headphones'): 4, ('27in 4K Gaming Monitor', '27in FHD Monitor'): 4, ('LG Washing Machine', 'AAA Batteries (4-pack)'): 4, ('Google Phone', 'Google Phone'): 3, ('Google Phone', 'Macbook Pro Laptop'): 3, ('Wired Headphones', 'LG Washing Machine'): 3, ('AA Batteries (4-pack)', 'Vareebadd Phone'): 3, ('ThinkPad Laptop', 'Google Phone'): 3, ('27in 4K Gaming Monitor', 'iPhone'): 3, ('Flatscreen TV', 'Google Phone'): 3, ('27in 4K Gaming Monitor', 'Flatscreen TV'): 3, ('Macbook Pro Laptop', 'Macbook Pro Laptop'): 3, ('iPhone', 'Macbook Pro Laptop'): 3, ('34in Ultrawide Monitor', 'Flatscreen TV'): 3, ('27in FHD Monitor', '20in Monitor'): 3, ('Macbook Pro Laptop', '27in FHD Monitor'): 3, ('20in Monitor', 'AAA Batteries (4-pack)'): 3, ('34in Ultrawide Monitor', 'ThinkPad Laptop'): 3, ('Vareebadd Phone', 'iPhone'): 3, ('Lightning Charging Cable', 'Vareebadd Phone'): 3, ('Apple Airpods Headphones', 'LG Dryer'): 3, ('ThinkPad Laptop', 'iPhone'): 3, ('Vareebadd Phone', 'Flatscreen TV'): 3, ('Macbook Pro Laptop', 'ThinkPad Laptop'): 3, ('34in Ultrawide Monitor', 'Macbook Pro Laptop'): 3, ('Google Phone', 'ThinkPad Laptop'): 3, ('20in Monitor', '20in Monitor'): 3, ('iPhone', 'Google Phone'): 3, ('Macbook Pro Laptop', 'iPhone'): 3, ('Flatscreen TV', 'Bose SoundSport Headphones'): 3, ('Google Phone', '34in Ultrawide Monitor'): 3, ('iPhone', '20in Monitor'): 2, ('Macbook Pro Laptop', '20in Monitor'): 2, ('20in Monitor', 'Google Phone'): 2, ('LG Washing Machine', 'Lightning Charging Cable'): 2, ('LG Washing Machine', 'Bose SoundSport Headphones'): 2, ('AA Batteries (4-pack)', 'LG Dryer'): 2, ('Vareebadd Phone', 'AAA Batteries (4-pack)'): 2, ('Google Phone', '20in Monitor'): 2, ('27in FHD Monitor', 'Flatscreen TV'): 2, ('27in 4K Gaming Monitor', '20in Monitor'): 2, ('20in Monitor', 'ThinkPad Laptop'): 2, ('20in Monitor', '27in FHD Monitor'): 2, ('Bose SoundSport Headphones', 'Vareebadd Phone'): 2, ('Flatscreen TV', 'ThinkPad Laptop'): 2, ('ThinkPad Laptop', '27in FHD Monitor'): 2, ('Lightning Charging Cable', 'LG Dryer'): 2, ('Macbook Pro Laptop', 'LG Washing Machine'): 2, ('34in Ultrawide Monitor', 'Google Phone'): 2, ('Flatscreen TV', '27in 4K Gaming Monitor'): 2, ('ThinkPad Laptop', 'Macbook Pro Laptop'): 2, ('27in FHD Monitor', 'LG Dryer'): 2, ('iPhone', 'iPhone'): 2, ('Vareebadd Phone', '27in 4K Gaming Monitor'): 2, ('ThinkPad Laptop', 'ThinkPad Laptop'): 2, ('Vareebadd Phone', 'ThinkPad Laptop'): 2, ('27in FHD Monitor', 'LG Washing Machine'): 1, ('LG Dryer', '27in FHD Monitor'): 1, ('20in Monitor', '34in Ultrawide Monitor'): 1, ('34in Ultrawide Monitor', '20in Monitor'): 1, ('LG Dryer', 'Flatscreen TV'): 1, ('LG Dryer', 'Lightning Charging Cable'): 1, ('ThinkPad Laptop', 'LG Dryer'): 1, ('LG Washing Machine', 'AA Batteries (4-pack)'): 1, ('27in FHD Monitor', 'Google Phone'): 1, ('iPhone', '27in FHD Monitor'): 1, ('Google Phone', 'Vareebadd Phone'): 1, ('20in Monitor', 'iPhone'): 1, ('LG Dryer', 'Vareebadd Phone'): 1, ('27in 4K Gaming Monitor', 'Vareebadd Phone'): 1, ('27in FHD Monitor', 'iPhone'): 1, ('Vareebadd Phone', 'Lightning Charging Cable'): 1, ('Vareebadd Phone', '27in FHD Monitor'): 1, ('ThinkPad Laptop', '27in 4K Gaming Monitor'): 1, ('20in Monitor', 'Flatscreen TV'): 1, ('USB-C Charging Cable', 'LG Dryer'): 1, ('LG Washing Machine', '20in Monitor'): 1, ('Flatscreen TV', '20in Monitor'): 1, ('LG Washing Machine', 'Google Phone'): 1, ('LG Washing Machine', 'Wired Headphones'): 1, ('LG Dryer', 'AAA Batteries (4-pack)'): 1, ('ThinkPad Laptop', '34in Ultrawide Monitor'): 1, ('iPhone', 'LG Washing Machine'): 1, ('AAA Batteries (4-pack)', 'LG Dryer'): 1, ('LG Dryer', '27in 4K Gaming Monitor'): 1, ('34in Ultrawide Monitor', 'LG Washing Machine'): 1, ('Google Phone', '27in 4K Gaming Monitor'): 1, ('LG Washing Machine', 'iPhone'): 1, ('LG Dryer', 'Wired Headphones'): 1, ('Macbook Pro Laptop', 'Flatscreen TV'): 1, ('ThinkPad Laptop', 'Vareebadd Phone'): 1, ('Google Phone', 'Flatscreen TV'): 1, ('27in FHD Monitor', 'Vareebadd Phone'): 1, ('LG Washing Machine', '27in 4K Gaming Monitor'): 1, ('LG Washing Machine', 'Apple Airpods Headphones'): 1, ('27in 4K Gaming Monitor', 'LG Dryer'): 1, ('20in Monitor', 'LG Washing Machine'): 1, ('LG Dryer', 'Google Phone'): 1})\n"
     ],
     "output_type":"stream"
    }
   ],
   "metadata":{
    "datalore":{
     "node_id":"J8xVDeW4HH2CSqevkom31M",
     "type":"CODE",
     "hide_input_from_viewers":true,
     "hide_output_from_viewers":true
    }
   }
  },
  {
   "cell_type":"code",
   "source":[
    "count.most_common(10)"
   ],
   "execution_count":29,
   "outputs":[
    {
     "data":{
      "text\/plain":[
       "[(('iPhone', 'Lightning Charging Cable'), 1005),\n",
       " (('Google Phone', 'USB-C Charging Cable'), 987),\n",
       " (('iPhone', 'Wired Headphones'), 447),\n",
       " (('Google Phone', 'Wired Headphones'), 414),\n",
       " (('Vareebadd Phone', 'USB-C Charging Cable'), 361),\n",
       " (('iPhone', 'Apple Airpods Headphones'), 360),\n",
       " (('Google Phone', 'Bose SoundSport Headphones'), 220),\n",
       " (('USB-C Charging Cable', 'Wired Headphones'), 160),\n",
       " (('Vareebadd Phone', 'Wired Headphones'), 143),\n",
       " (('Lightning Charging Cable', 'Wired Headphones'), 92)]"
      ]
     },
     "metadata":{
      
     },
     "output_type":"display_data"
    }
   ],
   "metadata":{
    "datalore":{
     "node_id":"QqumBVXLcdwtMdoVi09K0l",
     "type":"CODE",
     "hide_input_from_viewers":true,
     "hide_output_from_viewers":true
    }
   }
  },
  {
   "cell_type":"code",
   "source":[
    "for key, value in count.most_common(10):\n",
    "    print(key, value)\n",
    "\n",
    "# เหมือนเป็นการเอาออกมาจาก [] เมื่อเทียบกับด้านบน"
   ],
   "execution_count":30,
   "outputs":[
    {
     "name":"stdout",
     "text":[
      "('iPhone', 'Lightning Charging Cable') 1005\n",
      "('Google Phone', 'USB-C Charging Cable') 987\n",
      "('iPhone', 'Wired Headphones') 447\n",
      "('Google Phone', 'Wired Headphones') 414\n",
      "('Vareebadd Phone', 'USB-C Charging Cable') 361\n",
      "('iPhone', 'Apple Airpods Headphones') 360\n",
      "('Google Phone', 'Bose SoundSport Headphones') 220\n",
      "('USB-C Charging Cable', 'Wired Headphones') 160\n",
      "('Vareebadd Phone', 'Wired Headphones') 143\n",
      "('Lightning Charging Cable', 'Wired Headphones') 92\n"
     ],
     "output_type":"stream"
    }
   ],
   "metadata":{
    "datalore":{
     "node_id":"3yqTuZackxdLTQpHMTOKKk",
     "type":"CODE",
     "hide_input_from_viewers":true,
     "hide_output_from_viewers":true
    }
   }
  },
  {
   "cell_type":"code",
   "source":[
    "# Full Code เผื่อเอาไว้หาข้อมูลเพิ่ม\n",
    "'''\n",
    "from itertools import combinations\n",
    "from collections import Counter\n",
    "\n",
    "count = Counter()\n",
    "for row in df[\"Grouped\"]:\n",
    "    row_list = row.split(',')\n",
    "    count.update(Counter(combinations(row_list, 2)))\n",
    "for key, value in count.most_common(10):\n",
    "    print(key, value)\n",
    "'''"
   ],
   "execution_count":31,
   "outputs":[
    {
     "data":{
      "text\/plain":[
       "'\\nfrom itertools import combinations\\nfrom collections import Counter\\n\\ncount = Counter()\\nfor row in df[\"Grouped\"]:\\n    row_list = row.split(\\',\\')\\n    count.update(Counter(combinations(row_list, 2)))\\nfor key, value in count.most_common(10):\\n    print(key, value)\\n'"
      ]
     },
     "metadata":{
      
     },
     "output_type":"display_data"
    }
   ],
   "metadata":{
    "datalore":{
     "node_id":"aZxuI2BMfw9gKjFWp58Z1V",
     "type":"CODE",
     "hide_input_from_viewers":true,
     "hide_output_from_viewers":true
    }
   }
  },
  {
   "cell_type":"markdown",
   "source":[
    "### Question 5: What product sole the most? Why do you think it sold the most?"
   ],
   "attachments":{
    
   },
   "metadata":{
    "datalore":{
     "node_id":"JNI0JNM2rfPp9fr6uHlnJj",
     "type":"MD",
     "hide_input_from_viewers":true,
     "hide_output_from_viewers":true
    }
   }
  },
  {
   "cell_type":"code",
   "source":[
    "product_group = all_data.groupby('Product')\n",
    "quantity_ordered = product_group.sum()['Quantity Ordered']\n",
    "\n",
    "#product_group.sum()\n",
    "\n",
    "products = [product for product, df in product_group]\n",
    "plt.bar(products, quantity_ordered)\n",
    "plt.ylabel('Quantity Ordered')\n",
    "plt.xlabel('Product')\n",
    "plt.xticks(products, rotation='vertical', size= 8)\n",
    "plt.show()"
   ],
   "execution_count":32,
   "outputs":[
    {
     "name":"stderr",
     "text":[
      "<ipython-input-32-dfbdd36d537b>:2: FutureWarning: The default value of numeric_only in DataFrameGroupBy.sum is deprecated. In a future version, numeric_only will default to False. Either specify numeric_only or select only columns which should be valid for the function.\n",
      "  quantity_ordered = product_group.sum()['Quantity Ordered']\n"
     ],
     "output_type":"stream"
    },
    {
     "data":{
      "image\/png":"[encoded data removed]"
     },
     "metadata":{
      "image\/png":{
       
      }
     },
     "output_type":"display_data"
    }
   ],
   "metadata":{
    "datalore":{
     "node_id":"dfBsJkldUCQILDhHGZsx00",
     "type":"CODE",
     "hide_input_from_viewers":true,
     "hide_output_from_viewers":true
    }
   }
  },
  {
   "cell_type":"code",
   "source":[
    "prices = all_data.groupby(\"Product\").mean()['Price Each']\n",
    "prices"
   ],
   "execution_count":33,
   "outputs":[
    {
     "name":"stderr",
     "text":[
      "<ipython-input-33-650159251a5c>:1: FutureWarning: The default value of numeric_only in DataFrameGroupBy.mean is deprecated. In a future version, numeric_only will default to False. Either specify numeric_only or select only columns which should be valid for the function.\n",
      "  prices = all_data.groupby(\"Product\").mean()['Price Each']\n"
     ],
     "output_type":"stream"
    },
    {
     "data":{
      "text\/html":[
       "<pre>Product\n",
       "20in Monitor                   109.99\n",
       "27in 4K Gaming Monitor         389.99\n",
       "27in FHD Monitor               149.99\n",
       "34in Ultrawide Monitor         379.99\n",
       "AA Batteries (4-pack)            3.84\n",
       "AAA Batteries (4-pack)           2.99\n",
       "Apple Airpods Headphones       150.00\n",
       "Bose SoundSport Headphones      99.99\n",
       "Flatscreen TV                  300.00\n",
       "Google Phone                   600.00\n",
       "LG Dryer                       600.00\n",
       "LG Washing Machine             600.00\n",
       "Lightning Charging Cable        14.95\n",
       "Macbook Pro Laptop            1700.00\n",
       "ThinkPad Laptop                999.99\n",
       "USB-C Charging Cable            11.95\n",
       "Vareebadd Phone                400.00\n",
       "Wired Headphones                11.99\n",
       "iPhone                         700.00\n",
       "Name: Price Each, dtype: float64<\/pre>"
      ]
     },
     "metadata":{
      
     },
     "output_type":"display_data"
    }
   ],
   "metadata":{
    "datalore":{
     "node_id":"MYukmV4eITkqC5Xb1FFW7c",
     "type":"CODE",
     "hide_input_from_viewers":true,
     "hide_output_from_viewers":true
    }
   }
  },
  {
   "cell_type":"code",
   "source":[
    "'''\n",
    "prices = all_data.groupby(\"Product\").mean()['Price Each']\n",
    "referenced = https:\/\/stackoverflow.com\/questions\/14762181\/adding-a-y-axis-label-to-secondary-y-axis-in-matplotlib\n",
    "'''\n",
    "\n",
    "fig, ax1 = plt.subplots()\n",
    "\n",
    "ax2 = ax1.twinx()\n",
    "ax1.bar(products, quantity_ordered, color='g')\n",
    "ax2.plot(products, prices , 'b-')\n",
    "\n",
    "ax1.set_xlabel('Product Name')\n",
    "ax1.set_ylabel('Quantity Ordered', color='g')\n",
    "ax2.set_ylabel('Price ($)', color='b')\n",
    "ax1.set_xticklabels(products, rotation='vertical',size=8)\n",
    "\n",
    "plt.show()"
   ],
   "execution_count":42,
   "outputs":[
    {
     "name":"stderr",
     "text":[
      "<ipython-input-42-0007963f0ca8>:15: UserWarning: FixedFormatter should only be used together with FixedLocator\n",
      "  ax1.set_xticklabels(products, rotation='vertical',size=8)\n"
     ],
     "output_type":"stream"
    },
    {
     "data":{
      "image\/png":"[encoded data removed]"
     },
     "metadata":{
      "image\/png":{
       
      }
     },
     "output_type":"display_data"
    }
   ],
   "metadata":{
    "datalore":{
     "node_id":"qoobBguGh03hB44Mm0wjGm",
     "type":"CODE",
     "hide_input_from_viewers":true,
     "hide_output_from_viewers":true
    }
   }
  },
  {
   "cell_type":"code",
   "source":[
    "# my self\n",
    "product_group = all_data.groupby('Product')['Quantity Ordered'].sum()\n",
    "print(product_group)"
   ],
   "execution_count":104,
   "outputs":[
    {
     "name":"stdout",
     "text":[
      "Product\n",
      "20in Monitor                   4129\n",
      "27in 4K Gaming Monitor         6244\n",
      "27in FHD Monitor               7550\n",
      "34in Ultrawide Monitor         6199\n",
      "AA Batteries (4-pack)         27635\n",
      "AAA Batteries (4-pack)        31017\n",
      "Apple Airpods Headphones      15661\n",
      "Bose SoundSport Headphones    13457\n",
      "Flatscreen TV                  4819\n",
      "Google Phone                   5532\n",
      "LG Dryer                        646\n",
      "LG Washing Machine              666\n",
      "Lightning Charging Cable      23217\n",
      "Macbook Pro Laptop             4728\n",
      "ThinkPad Laptop                4130\n",
      "USB-C Charging Cable          23975\n",
      "Vareebadd Phone                2068\n",
      "Wired Headphones              20557\n",
      "iPhone                         6849\n",
      "Name: Quantity Ordered, dtype: int64\n"
     ],
     "output_type":"stream"
    }
   ],
   "metadata":{
    "datalore":{
     "node_id":"eLemH2ADBSAiXz3OsyzIkm",
     "type":"CODE",
     "hide_input_from_viewers":true,
     "hide_output_from_viewers":true
    }
   }
  },
  {
   "cell_type":"markdown",
   "source":[
    "# From https:\/\/www.youtube.com\/watch?v=eMOA1pPVUc4"
   ],
   "attachments":{
    
   },
   "metadata":{
    "datalore":{
     "node_id":"9HgKNfSE5GQdpgxEW1CoOV",
     "type":"MD",
     "hide_input_from_viewers":true,
     "hide_output_from_viewers":true
    }
   }
  }
 ],
 "metadata":{
  "kernelspec":{
   "display_name":"Python",
   "language":"python",
   "name":"python"
  },
  "datalore":{
   "computation_mode":"JUPYTER",
   "package_manager":"pip",
   "base_environment":"default",
   "packages":[
    
   ],
   "report_row_ids":[
    
   ],
   "version":3
  }
 },
 "nbformat":4,
 "nbformat_minor":4
}