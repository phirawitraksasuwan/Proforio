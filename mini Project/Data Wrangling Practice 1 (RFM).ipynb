{
 "cells":[
  {
   "cell_type":"markdown",
   "source":[
    "# RFM ( Recency-Frequency-Monetary)"
   ],
   "attachments":{
    
   },
   "metadata":{
    "datalore":{
     "node_id":"Tu8Thl4JYT3w5mbZarfLkL",
     "type":"MD",
     "hide_input_from_viewers":true,
     "hide_output_from_viewers":true
    }
   }
  },
  {
   "cell_type":"code",
   "source":[
    "# Dataset => https:\/\/www.kaggle.com\/datasets\/vivek468\/superstore-dataset-final"
   ],
   "execution_count":3,
   "outputs":[
    
   ],
   "metadata":{
    "datalore":{
     "node_id":"xF5U7HxOxw0z8YtdkJZ1Mu",
     "type":"CODE",
     "hide_input_from_viewers":true,
     "hide_output_from_viewers":true
    }
   }
  },
  {
   "cell_type":"markdown",
   "source":[
    "# Data Wrangling Practice 1\n",
    "### RFM ( Recency-Frequency-Monetary)\n",
    "การดูพฤติกรรมของลูกค้าในการซื้อสินค้า \n",
    "- Recency ครั้งล่าสุดเมื่อไหร่\n",
    "- Frequency มาบ่อยเเค่ไหน\n",
    "- Monetary จำนวนเงินที่เขาซื้อมีเท่าไหร่\n",
    "\n",
    "#### 1.1 Load data"
   ],
   "attachments":{
    
   },
   "metadata":{
    "datalore":{
     "node_id":"67BQ2dFKgCEkmvTQpMnHOR",
     "type":"MD",
     "hide_input_from_viewers":true,
     "hide_output_from_viewers":true
    }
   }
  },
  {
   "cell_type":"code",
   "source":[
    "import pandas as pd\n",
    " \n",
    "\n",
    "superstore = pd.read_csv('Sample_Superstore.csv', encoding='windows-1252', index_col=\"Row ID\") \n",
    "        #วิธีเเก้มาจาก stackoverflow ('utf-8' codec can't decode byte 0xa0 in position 4276: invalid start byte)\n",
    "        # index_col => optional\n",
    "superstore.head()"
   ],
   "execution_count":4,
   "outputs":[
    {
     "data":{
      "text\/html":[
       "<div>\n",
       "<style scoped>\n",
       "    .dataframe tbody tr th:only-of-type {\n",
       "        vertical-align: middle;\n",
       "    }\n",
       "\n",
       "    .dataframe tbody tr th {\n",
       "        vertical-align: top;\n",
       "    }\n",
       "\n",
       "    .dataframe thead th {\n",
       "        text-align: right;\n",
       "    }\n",
       "<\/style>\n",
       "<table border=\"1\" class=\"dataframe\">\n",
       "  <thead>\n",
       "    <tr style=\"text-align: right;\">\n",
       "      <th><\/th>\n",
       "      <th>Order ID<\/th>\n",
       "      <th>Order Date<\/th>\n",
       "      <th>Ship Date<\/th>\n",
       "      <th>Ship Mode<\/th>\n",
       "      <th>Customer ID<\/th>\n",
       "      <th>Customer Name<\/th>\n",
       "      <th>Segment<\/th>\n",
       "      <th>Country<\/th>\n",
       "      <th>City<\/th>\n",
       "      <th>State<\/th>\n",
       "      <th>Postal Code<\/th>\n",
       "      <th>Region<\/th>\n",
       "      <th>Product ID<\/th>\n",
       "      <th>Category<\/th>\n",
       "      <th>Sub-Category<\/th>\n",
       "      <th>Product Name<\/th>\n",
       "      <th>Sales<\/th>\n",
       "      <th>Quantity<\/th>\n",
       "      <th>Discount<\/th>\n",
       "      <th>Profit<\/th>\n",
       "    <\/tr>\n",
       "    <tr>\n",
       "      <th>Row ID<\/th>\n",
       "      <th><\/th>\n",
       "      <th><\/th>\n",
       "      <th><\/th>\n",
       "      <th><\/th>\n",
       "      <th><\/th>\n",
       "      <th><\/th>\n",
       "      <th><\/th>\n",
       "      <th><\/th>\n",
       "      <th><\/th>\n",
       "      <th><\/th>\n",
       "      <th><\/th>\n",
       "      <th><\/th>\n",
       "      <th><\/th>\n",
       "      <th><\/th>\n",
       "      <th><\/th>\n",
       "      <th><\/th>\n",
       "      <th><\/th>\n",
       "      <th><\/th>\n",
       "      <th><\/th>\n",
       "      <th><\/th>\n",
       "    <\/tr>\n",
       "  <\/thead>\n",
       "  <tbody>\n",
       "    <tr>\n",
       "      <th>1<\/th>\n",
       "      <td>CA-2016-152156<\/td>\n",
       "      <td>11\/8\/2016<\/td>\n",
       "      <td>11\/11\/2016<\/td>\n",
       "      <td>Second Class<\/td>\n",
       "      <td>CG-12520<\/td>\n",
       "      <td>Claire Gute<\/td>\n",
       "      <td>Consumer<\/td>\n",
       "      <td>United States<\/td>\n",
       "      <td>Henderson<\/td>\n",
       "      <td>Kentucky<\/td>\n",
       "      <td>42420<\/td>\n",
       "      <td>South<\/td>\n",
       "      <td>FUR-BO-10001798<\/td>\n",
       "      <td>Furniture<\/td>\n",
       "      <td>Bookcases<\/td>\n",
       "      <td>Bush Somerset Collection Bookcase<\/td>\n",
       "      <td>261.9600<\/td>\n",
       "      <td>2<\/td>\n",
       "      <td>0.00<\/td>\n",
       "      <td>41.9136<\/td>\n",
       "    <\/tr>\n",
       "    <tr>\n",
       "      <th>2<\/th>\n",
       "      <td>CA-2016-152156<\/td>\n",
       "      <td>11\/8\/2016<\/td>\n",
       "      <td>11\/11\/2016<\/td>\n",
       "      <td>Second Class<\/td>\n",
       "      <td>CG-12520<\/td>\n",
       "      <td>Claire Gute<\/td>\n",
       "      <td>Consumer<\/td>\n",
       "      <td>United States<\/td>\n",
       "      <td>Henderson<\/td>\n",
       "      <td>Kentucky<\/td>\n",
       "      <td>42420<\/td>\n",
       "      <td>South<\/td>\n",
       "      <td>FUR-CH-10000454<\/td>\n",
       "      <td>Furniture<\/td>\n",
       "      <td>Chairs<\/td>\n",
       "      <td>Hon Deluxe Fabric Upholstered Stacking Chairs,...<\/td>\n",
       "      <td>731.9400<\/td>\n",
       "      <td>3<\/td>\n",
       "      <td>0.00<\/td>\n",
       "      <td>219.5820<\/td>\n",
       "    <\/tr>\n",
       "    <tr>\n",
       "      <th>3<\/th>\n",
       "      <td>CA-2016-138688<\/td>\n",
       "      <td>6\/12\/2016<\/td>\n",
       "      <td>6\/16\/2016<\/td>\n",
       "      <td>Second Class<\/td>\n",
       "      <td>DV-13045<\/td>\n",
       "      <td>Darrin Van Huff<\/td>\n",
       "      <td>Corporate<\/td>\n",
       "      <td>United States<\/td>\n",
       "      <td>Los Angeles<\/td>\n",
       "      <td>California<\/td>\n",
       "      <td>90036<\/td>\n",
       "      <td>West<\/td>\n",
       "      <td>OFF-LA-10000240<\/td>\n",
       "      <td>Office Supplies<\/td>\n",
       "      <td>Labels<\/td>\n",
       "      <td>Self-Adhesive Address Labels for Typewriters b...<\/td>\n",
       "      <td>14.6200<\/td>\n",
       "      <td>2<\/td>\n",
       "      <td>0.00<\/td>\n",
       "      <td>6.8714<\/td>\n",
       "    <\/tr>\n",
       "    <tr>\n",
       "      <th>4<\/th>\n",
       "      <td>US-2015-108966<\/td>\n",
       "      <td>10\/11\/2015<\/td>\n",
       "      <td>10\/18\/2015<\/td>\n",
       "      <td>Standard Class<\/td>\n",
       "      <td>SO-20335<\/td>\n",
       "      <td>Sean O'Donnell<\/td>\n",
       "      <td>Consumer<\/td>\n",
       "      <td>United States<\/td>\n",
       "      <td>Fort Lauderdale<\/td>\n",
       "      <td>Florida<\/td>\n",
       "      <td>33311<\/td>\n",
       "      <td>South<\/td>\n",
       "      <td>FUR-TA-10000577<\/td>\n",
       "      <td>Furniture<\/td>\n",
       "      <td>Tables<\/td>\n",
       "      <td>Bretford CR4500 Series Slim Rectangular Table<\/td>\n",
       "      <td>957.5775<\/td>\n",
       "      <td>5<\/td>\n",
       "      <td>0.45<\/td>\n",
       "      <td>-383.0310<\/td>\n",
       "    <\/tr>\n",
       "    <tr>\n",
       "      <th>5<\/th>\n",
       "      <td>US-2015-108966<\/td>\n",
       "      <td>10\/11\/2015<\/td>\n",
       "      <td>10\/18\/2015<\/td>\n",
       "      <td>Standard Class<\/td>\n",
       "      <td>SO-20335<\/td>\n",
       "      <td>Sean O'Donnell<\/td>\n",
       "      <td>Consumer<\/td>\n",
       "      <td>United States<\/td>\n",
       "      <td>Fort Lauderdale<\/td>\n",
       "      <td>Florida<\/td>\n",
       "      <td>33311<\/td>\n",
       "      <td>South<\/td>\n",
       "      <td>OFF-ST-10000760<\/td>\n",
       "      <td>Office Supplies<\/td>\n",
       "      <td>Storage<\/td>\n",
       "      <td>Eldon Fold 'N Roll Cart System<\/td>\n",
       "      <td>22.3680<\/td>\n",
       "      <td>2<\/td>\n",
       "      <td>0.20<\/td>\n",
       "      <td>2.5164<\/td>\n",
       "    <\/tr>\n",
       "  <\/tbody>\n",
       "<\/table>\n",
       "<\/div>"
      ]
     },
     "metadata":{
      
     },
     "output_type":"display_data"
    }
   ],
   "metadata":{
    "datalore":{
     "node_id":"Z9xGQFzC5NrxSPn0ba6iGe",
     "type":"CODE",
     "hide_input_from_viewers":true,
     "hide_output_from_viewers":true
    }
   }
  },
  {
   "cell_type":"markdown",
   "source":[
    "#### 1.2 Check Type Data"
   ],
   "attachments":{
    
   },
   "metadata":{
    "datalore":{
     "node_id":"fdlCa6NZkXwTzM10IC55LA",
     "type":"MD",
     "hide_input_from_viewers":true,
     "hide_output_from_viewers":true
    }
   }
  },
  {
   "cell_type":"code",
   "source":[
    "superstore.info()\n",
    "# order date & ship date ยังไม่เป็น type ที่ถูกต้อง \n",
    "# Postal Code เป็นตัวเลขก็จริง เเต่ไม่สามารถบบวกลบได้ ต้องเป็น opject"
   ],
   "execution_count":5,
   "outputs":[
    {
     "name":"stdout",
     "text":[
      "<class 'pandas.core.frame.DataFrame'>\n",
      "Int64Index: 9994 entries, 1 to 9994\n",
      "Data columns (total 20 columns):\n",
      " #   Column         Non-Null Count  Dtype  \n",
      "---  ------         --------------  -----  \n",
      " 0   Order ID       9994 non-null   object \n",
      " 1   Order Date     9994 non-null   object \n",
      " 2   Ship Date      9994 non-null   object \n",
      " 3   Ship Mode      9994 non-null   object \n",
      " 4   Customer ID    9994 non-null   object \n",
      " 5   Customer Name  9994 non-null   object \n",
      " 6   Segment        9994 non-null   object \n",
      " 7   Country        9994 non-null   object \n",
      " 8   City           9994 non-null   object \n",
      " 9   State          9994 non-null   object \n",
      " 10  Postal Code    9994 non-null   int64  \n",
      " 11  Region         9994 non-null   object \n",
      " 12  Product ID     9994 non-null   object \n",
      " 13  Category       9994 non-null   object \n",
      " 14  Sub-Category   9994 non-null   object \n",
      " 15  Product Name   9994 non-null   object \n",
      " 16  Sales          9994 non-null   float64\n",
      " 17  Quantity       9994 non-null   int64  \n",
      " 18  Discount       9994 non-null   float64\n",
      " 19  Profit         9994 non-null   float64\n",
      "dtypes: float64(3), int64(2), object(15)\n",
      "memory usage: 1.6+ MB\n"
     ],
     "output_type":"stream"
    }
   ],
   "metadata":{
    "datalore":{
     "node_id":"ZNqATqS0pAmFjjUlOpzmpz",
     "type":"CODE",
     "hide_input_from_viewers":true,
     "hide_output_from_viewers":true
    }
   }
  },
  {
   "cell_type":"code",
   "source":[
    "superstore['Order Date'] = pd.to_datetime(superstore[\"Order Date\"])\n",
    "superstore['Ship Date'] = pd.to_datetime(superstore['Ship Date' ])\n",
    "superstore['Postal Code'] = superstore['Postal Code'].astype(str)"
   ],
   "execution_count":6,
   "outputs":[
    
   ],
   "metadata":{
    "datalore":{
     "node_id":"rjIMji0nNW6am0GxasF01W",
     "type":"CODE",
     "hide_input_from_viewers":true,
     "hide_output_from_viewers":true
    }
   }
  },
  {
   "cell_type":"markdown",
   "source":[
    "#### 1.3 Get current data"
   ],
   "attachments":{
    
   },
   "metadata":{
    "datalore":{
     "node_id":"yKuV62GFcy4Tg6P3oluaRa",
     "type":"MD",
     "hide_input_from_viewers":true,
     "hide_output_from_viewers":true
    }
   }
  },
  {
   "cell_type":"code",
   "source":[
    "import datetime\n",
    "datetime.datetime.now()"
   ],
   "execution_count":7,
   "outputs":[
    {
     "data":{
      "text\/plain":[
       "datetime.datetime(2023, 8, 8, 13, 32, 20, 281808)"
      ]
     },
     "metadata":{
      
     },
     "output_type":"display_data"
    }
   ],
   "metadata":{
    "datalore":{
     "node_id":"u3feuCJ317h1t8NkNJBvjw",
     "type":"CODE",
     "hide_input_from_viewers":true,
     "hide_output_from_viewers":true
    }
   }
  },
  {
   "cell_type":"code",
   "source":[
    "currentDate = superstore['Order Date'].max()\n",
    "currentDate"
   ],
   "execution_count":8,
   "outputs":[
    {
     "data":{
      "text\/plain":[
       "Timestamp('2017-12-30 00:00:00')"
      ]
     },
     "metadata":{
      
     },
     "output_type":"display_data"
    }
   ],
   "metadata":{
    "datalore":{
     "node_id":"LPyaOgKaTs0cAvKYVj7c7O",
     "type":"CODE",
     "hide_input_from_viewers":true,
     "hide_output_from_viewers":true
    }
   }
  },
  {
   "cell_type":"code",
   "source":[
    "(currentDate - superstore[\"Order Date\"]).dt.days\n",
    "    # .dt.days ไม่มีก็ได้เเต่เวลาเอาวันเวลาไป บวก ลบ จะทำไม่ได้ (สามารถลองเอาออกได้)"
   ],
   "execution_count":9,
   "outputs":[
    {
     "data":{
      "text\/html":[
       "<pre>Row ID\n",
       "1        417\n",
       "2        417\n",
       "3        566\n",
       "4        811\n",
       "5        811\n",
       "        ... \n",
       "9990    1439\n",
       "9991     307\n",
       "9992     307\n",
       "9993     307\n",
       "9994     240\n",
       "Name: Order Date, Length: 9994, dtype: int64<\/pre>"
      ]
     },
     "metadata":{
      
     },
     "output_type":"display_data"
    }
   ],
   "metadata":{
    "datalore":{
     "node_id":"VdzQjq0hRdkKSxzxfsBDpN",
     "type":"CODE",
     "hide_input_from_viewers":true,
     "hide_output_from_viewers":true
    }
   }
  },
  {
   "cell_type":"markdown",
   "source":[
    "#### 1.4 Define recency function"
   ],
   "attachments":{
    
   },
   "metadata":{
    "datalore":{
     "node_id":"XnHlh3Lm7PAZLrgztUnhG5",
     "type":"MD",
     "hide_input_from_viewers":true,
     "hide_output_from_viewers":true
    }
   }
  },
  {
   "cell_type":"code",
   "source":[
    "# ตัวอย่างในหัว ในสิ่งที่เราจะทำ \n",
    "( currentDate -  superstore[superstore['Customer ID'] == 'CG-12520']['Order Date'].max()).days\n",
    "    # ไม่ใส่ .dt เพราะ .dt ใช้กับ series"
   ],
   "execution_count":10,
   "outputs":[
    {
     "data":{
      "text\/plain":[
       "338"
      ]
     },
     "metadata":{
      
     },
     "output_type":"display_data"
    }
   ],
   "metadata":{
    "datalore":{
     "node_id":"l1JtEbA9x2eA4BJ25ORf57",
     "type":"CODE",
     "hide_input_from_viewers":true,
     "hide_output_from_viewers":true
    }
   }
  },
  {
   "cell_type":"code",
   "source":[
    "def recency(x) :\n",
    "    return ( currentDate - x.max() ).days"
   ],
   "execution_count":11,
   "outputs":[
    
   ],
   "metadata":{
    "datalore":{
     "node_id":"wxGoeRFHB4Iq4PJEJWqKbe",
     "type":"CODE",
     "hide_input_from_viewers":true,
     "hide_output_from_viewers":true
    }
   }
  },
  {
   "cell_type":"code",
   "source":[
    "    # ตัวอย่าง  วิธีใช้จริงจะอยู่ด้านล่าง\n",
    "recency(superstore['Order Date'])"
   ],
   "execution_count":12,
   "outputs":[
    {
     "data":{
      "text\/plain":[
       "0"
      ]
     },
     "metadata":{
      
     },
     "output_type":"display_data"
    }
   ],
   "metadata":{
    "datalore":{
     "node_id":"b46qhZxakxo5Y1YaCtuq0X",
     "type":"CODE",
     "hide_input_from_viewers":true,
     "hide_output_from_viewers":true
    }
   }
  },
  {
   "cell_type":"markdown",
   "source":[
    "#### 1.5 Recency of each customer \n",
    "คนๆนี้ Order ID นี้ ไม่ได้เข้ามาใช้งานนานเท่าไหร่เเล้ว"
   ],
   "attachments":{
    
   },
   "metadata":{
    "datalore":{
     "node_id":"cuGez1Gv57jpyHdXC7Ekkp",
     "type":"MD",
     "hide_input_from_viewers":true,
     "hide_output_from_viewers":true
    }
   }
  },
  {
   "cell_type":"code",
   "source":[
    "superstore.groupby('Customer ID').agg({'Order Date':recency})\n",
    "    # : recency น่าจะคือการ นำ function มาใช้"
   ],
   "execution_count":13,
   "outputs":[
    {
     "data":{
      "text\/html":[
       "<div>\n",
       "<style scoped>\n",
       "    .dataframe tbody tr th:only-of-type {\n",
       "        vertical-align: middle;\n",
       "    }\n",
       "\n",
       "    .dataframe tbody tr th {\n",
       "        vertical-align: top;\n",
       "    }\n",
       "\n",
       "    .dataframe thead th {\n",
       "        text-align: right;\n",
       "    }\n",
       "<\/style>\n",
       "<table border=\"1\" class=\"dataframe\">\n",
       "  <thead>\n",
       "    <tr style=\"text-align: right;\">\n",
       "      <th><\/th>\n",
       "      <th>Order Date<\/th>\n",
       "    <\/tr>\n",
       "    <tr>\n",
       "      <th>Customer ID<\/th>\n",
       "      <th><\/th>\n",
       "    <\/tr>\n",
       "  <\/thead>\n",
       "  <tbody>\n",
       "    <tr>\n",
       "      <th>AA-10315<\/th>\n",
       "      <td>184<\/td>\n",
       "    <\/tr>\n",
       "    <tr>\n",
       "      <th>AA-10375<\/th>\n",
       "      <td>19<\/td>\n",
       "    <\/tr>\n",
       "    <tr>\n",
       "      <th>AA-10480<\/th>\n",
       "      <td>259<\/td>\n",
       "    <\/tr>\n",
       "    <tr>\n",
       "      <th>AA-10645<\/th>\n",
       "      <td>55<\/td>\n",
       "    <\/tr>\n",
       "    <tr>\n",
       "      <th>AB-10015<\/th>\n",
       "      <td>415<\/td>\n",
       "    <\/tr>\n",
       "    <tr>\n",
       "      <th>...<\/th>\n",
       "      <td>...<\/td>\n",
       "    <\/tr>\n",
       "    <tr>\n",
       "      <th>XP-21865<\/th>\n",
       "      <td>43<\/td>\n",
       "    <\/tr>\n",
       "    <tr>\n",
       "      <th>YC-21895<\/th>\n",
       "      <td>4<\/td>\n",
       "    <\/tr>\n",
       "    <tr>\n",
       "      <th>YS-21880<\/th>\n",
       "      <td>9<\/td>\n",
       "    <\/tr>\n",
       "    <tr>\n",
       "      <th>ZC-21910<\/th>\n",
       "      <td>54<\/td>\n",
       "    <\/tr>\n",
       "    <tr>\n",
       "      <th>ZD-21925<\/th>\n",
       "      <td>202<\/td>\n",
       "    <\/tr>\n",
       "  <\/tbody>\n",
       "<\/table>\n",
       "<p>793 rows × 1 columns<\/p>\n",
       "<\/div>"
      ]
     },
     "metadata":{
      
     },
     "output_type":"display_data"
    }
   ],
   "metadata":{
    "datalore":{
     "node_id":"pwLCyBd8SduzQD1NXQdQIG",
     "type":"CODE",
     "hide_input_from_viewers":true,
     "hide_output_from_viewers":true
    }
   }
  },
  {
   "cell_type":"markdown",
   "source":[
    "#### 1.6 Add frequency of each customer\n",
    "ต้องมาตีความก่อนว่า \"ความถี่ของการซื้อ\" จะนับยังไง"
   ],
   "attachments":{
    
   },
   "metadata":{
    "datalore":{
     "node_id":"QtqCL37ADCZDxOkojKsdrA",
     "type":"MD",
     "hide_input_from_viewers":true,
     "hide_output_from_viewers":true
    }
   }
  },
  {
   "cell_type":"code",
   "source":[
    "superstore.groupby('Customer ID').agg({ 'Order Date': recency, 'Order ID' : 'nunique'})\n",
    "    # nunique หมายความว่า Order ID นี้มีความเป็น unique กี่ครั้ง\n",
    "#superstore.groupby('Customer ID').agg({ 'Order Date': recency, 'Order ID' : 'count'  })  # ใช้ 'count' แทน 'nunique'"
   ],
   "execution_count":14,
   "outputs":[
    {
     "data":{
      "text\/html":[
       "<div>\n",
       "<style scoped>\n",
       "    .dataframe tbody tr th:only-of-type {\n",
       "        vertical-align: middle;\n",
       "    }\n",
       "\n",
       "    .dataframe tbody tr th {\n",
       "        vertical-align: top;\n",
       "    }\n",
       "\n",
       "    .dataframe thead th {\n",
       "        text-align: right;\n",
       "    }\n",
       "<\/style>\n",
       "<table border=\"1\" class=\"dataframe\">\n",
       "  <thead>\n",
       "    <tr style=\"text-align: right;\">\n",
       "      <th><\/th>\n",
       "      <th>Order Date<\/th>\n",
       "      <th>Order ID<\/th>\n",
       "    <\/tr>\n",
       "    <tr>\n",
       "      <th>Customer ID<\/th>\n",
       "      <th><\/th>\n",
       "      <th><\/th>\n",
       "    <\/tr>\n",
       "  <\/thead>\n",
       "  <tbody>\n",
       "    <tr>\n",
       "      <th>AA-10315<\/th>\n",
       "      <td>184<\/td>\n",
       "      <td>5<\/td>\n",
       "    <\/tr>\n",
       "    <tr>\n",
       "      <th>AA-10375<\/th>\n",
       "      <td>19<\/td>\n",
       "      <td>9<\/td>\n",
       "    <\/tr>\n",
       "    <tr>\n",
       "      <th>AA-10480<\/th>\n",
       "      <td>259<\/td>\n",
       "      <td>4<\/td>\n",
       "    <\/tr>\n",
       "    <tr>\n",
       "      <th>AA-10645<\/th>\n",
       "      <td>55<\/td>\n",
       "      <td>6<\/td>\n",
       "    <\/tr>\n",
       "    <tr>\n",
       "      <th>AB-10015<\/th>\n",
       "      <td>415<\/td>\n",
       "      <td>3<\/td>\n",
       "    <\/tr>\n",
       "    <tr>\n",
       "      <th>...<\/th>\n",
       "      <td>...<\/td>\n",
       "      <td>...<\/td>\n",
       "    <\/tr>\n",
       "    <tr>\n",
       "      <th>XP-21865<\/th>\n",
       "      <td>43<\/td>\n",
       "      <td>11<\/td>\n",
       "    <\/tr>\n",
       "    <tr>\n",
       "      <th>YC-21895<\/th>\n",
       "      <td>4<\/td>\n",
       "      <td>5<\/td>\n",
       "    <\/tr>\n",
       "    <tr>\n",
       "      <th>YS-21880<\/th>\n",
       "      <td>9<\/td>\n",
       "      <td>8<\/td>\n",
       "    <\/tr>\n",
       "    <tr>\n",
       "      <th>ZC-21910<\/th>\n",
       "      <td>54<\/td>\n",
       "      <td>13<\/td>\n",
       "    <\/tr>\n",
       "    <tr>\n",
       "      <th>ZD-21925<\/th>\n",
       "      <td>202<\/td>\n",
       "      <td>5<\/td>\n",
       "    <\/tr>\n",
       "  <\/tbody>\n",
       "<\/table>\n",
       "<p>793 rows × 2 columns<\/p>\n",
       "<\/div>"
      ]
     },
     "metadata":{
      
     },
     "output_type":"display_data"
    }
   ],
   "metadata":{
    "datalore":{
     "node_id":"zqHc4voftaIpCC0xInA6UW",
     "type":"CODE",
     "hide_input_from_viewers":true,
     "hide_output_from_viewers":true
    }
   }
  },
  {
   "cell_type":"code",
   "source":[
    "# ตัวอย่างจาก Code ด้านบน\n",
    "superstore['Customer ID'].nunique()\n",
    "    # df[...].nunique | df[...] : nunique => คล้ายๆกัน"
   ],
   "execution_count":15,
   "outputs":[
    {
     "data":{
      "text\/plain":[
       "793"
      ]
     },
     "metadata":{
      
     },
     "output_type":"display_data"
    }
   ],
   "metadata":{
    "datalore":{
     "node_id":"NJMfqz8T7gSYiOg7zdEz51",
     "type":"CODE",
     "hide_input_from_viewers":true,
     "hide_output_from_viewers":true
    }
   }
  },
  {
   "cell_type":"markdown",
   "source":[
    "#### 1.7 Add monetaey of each customer "
   ],
   "attachments":{
    
   },
   "metadata":{
    "datalore":{
     "node_id":"1ZzWrPnAOwrmSDtmGUrrZW",
     "type":"MD",
     "hide_input_from_viewers":true,
     "hide_output_from_viewers":true
    }
   }
  },
  {
   "cell_type":"code",
   "source":[
    "superstore.groupby('Customer ID').agg({'Order Date': recency,\n",
    "                                       'Order ID': 'nunique',\n",
    "                                       'Sales' : sum})"
   ],
   "execution_count":16,
   "outputs":[
    {
     "data":{
      "text\/html":[
       "<div>\n",
       "<style scoped>\n",
       "    .dataframe tbody tr th:only-of-type {\n",
       "        vertical-align: middle;\n",
       "    }\n",
       "\n",
       "    .dataframe tbody tr th {\n",
       "        vertical-align: top;\n",
       "    }\n",
       "\n",
       "    .dataframe thead th {\n",
       "        text-align: right;\n",
       "    }\n",
       "<\/style>\n",
       "<table border=\"1\" class=\"dataframe\">\n",
       "  <thead>\n",
       "    <tr style=\"text-align: right;\">\n",
       "      <th><\/th>\n",
       "      <th>Order Date<\/th>\n",
       "      <th>Order ID<\/th>\n",
       "      <th>Sales<\/th>\n",
       "    <\/tr>\n",
       "    <tr>\n",
       "      <th>Customer ID<\/th>\n",
       "      <th><\/th>\n",
       "      <th><\/th>\n",
       "      <th><\/th>\n",
       "    <\/tr>\n",
       "  <\/thead>\n",
       "  <tbody>\n",
       "    <tr>\n",
       "      <th>AA-10315<\/th>\n",
       "      <td>184<\/td>\n",
       "      <td>5<\/td>\n",
       "      <td>5563.560<\/td>\n",
       "    <\/tr>\n",
       "    <tr>\n",
       "      <th>AA-10375<\/th>\n",
       "      <td>19<\/td>\n",
       "      <td>9<\/td>\n",
       "      <td>1056.390<\/td>\n",
       "    <\/tr>\n",
       "    <tr>\n",
       "      <th>AA-10480<\/th>\n",
       "      <td>259<\/td>\n",
       "      <td>4<\/td>\n",
       "      <td>1790.512<\/td>\n",
       "    <\/tr>\n",
       "    <tr>\n",
       "      <th>AA-10645<\/th>\n",
       "      <td>55<\/td>\n",
       "      <td>6<\/td>\n",
       "      <td>5086.935<\/td>\n",
       "    <\/tr>\n",
       "    <tr>\n",
       "      <th>AB-10015<\/th>\n",
       "      <td>415<\/td>\n",
       "      <td>3<\/td>\n",
       "      <td>886.156<\/td>\n",
       "    <\/tr>\n",
       "    <tr>\n",
       "      <th>...<\/th>\n",
       "      <td>...<\/td>\n",
       "      <td>...<\/td>\n",
       "      <td>...<\/td>\n",
       "    <\/tr>\n",
       "    <tr>\n",
       "      <th>XP-21865<\/th>\n",
       "      <td>43<\/td>\n",
       "      <td>11<\/td>\n",
       "      <td>2374.658<\/td>\n",
       "    <\/tr>\n",
       "    <tr>\n",
       "      <th>YC-21895<\/th>\n",
       "      <td>4<\/td>\n",
       "      <td>5<\/td>\n",
       "      <td>5454.350<\/td>\n",
       "    <\/tr>\n",
       "    <tr>\n",
       "      <th>YS-21880<\/th>\n",
       "      <td>9<\/td>\n",
       "      <td>8<\/td>\n",
       "      <td>6720.444<\/td>\n",
       "    <\/tr>\n",
       "    <tr>\n",
       "      <th>ZC-21910<\/th>\n",
       "      <td>54<\/td>\n",
       "      <td>13<\/td>\n",
       "      <td>8025.707<\/td>\n",
       "    <\/tr>\n",
       "    <tr>\n",
       "      <th>ZD-21925<\/th>\n",
       "      <td>202<\/td>\n",
       "      <td>5<\/td>\n",
       "      <td>1493.944<\/td>\n",
       "    <\/tr>\n",
       "  <\/tbody>\n",
       "<\/table>\n",
       "<p>793 rows × 3 columns<\/p>\n",
       "<\/div>"
      ]
     },
     "metadata":{
      
     },
     "output_type":"display_data"
    }
   ],
   "metadata":{
    "datalore":{
     "node_id":"ErRA67q7awmQVtIL2utkRH",
     "type":"CODE",
     "hide_input_from_viewers":true,
     "hide_output_from_viewers":true
    }
   }
  },
  {
   "cell_type":"markdown",
   "source":[
    "#### 1.8 Rename Columns\n",
    "ภาพรวมทั้งหมด"
   ],
   "attachments":{
    
   },
   "metadata":{
    "datalore":{
     "node_id":"nHUG86aethqD8eRFkYvMx1",
     "type":"MD",
     "hide_input_from_viewers":true,
     "hide_output_from_viewers":true
    }
   }
  },
  {
   "cell_type":"code",
   "source":[
    "superstore\\\n",
    "    .groupby('Customer ID')\\\n",
    "        .agg({ 'Order Date' : recency, 'Order ID': 'nunique', 'Sales': sum })\\\n",
    "            .rename(columns = {'Orde Date': 'R','Order ID':'F','Sales': 'M' })"
   ],
   "execution_count":17,
   "outputs":[
    {
     "data":{
      "text\/html":[
       "<div>\n",
       "<style scoped>\n",
       "    .dataframe tbody tr th:only-of-type {\n",
       "        vertical-align: middle;\n",
       "    }\n",
       "\n",
       "    .dataframe tbody tr th {\n",
       "        vertical-align: top;\n",
       "    }\n",
       "\n",
       "    .dataframe thead th {\n",
       "        text-align: right;\n",
       "    }\n",
       "<\/style>\n",
       "<table border=\"1\" class=\"dataframe\">\n",
       "  <thead>\n",
       "    <tr style=\"text-align: right;\">\n",
       "      <th><\/th>\n",
       "      <th>Order Date<\/th>\n",
       "      <th>F<\/th>\n",
       "      <th>M<\/th>\n",
       "    <\/tr>\n",
       "    <tr>\n",
       "      <th>Customer ID<\/th>\n",
       "      <th><\/th>\n",
       "      <th><\/th>\n",
       "      <th><\/th>\n",
       "    <\/tr>\n",
       "  <\/thead>\n",
       "  <tbody>\n",
       "    <tr>\n",
       "      <th>AA-10315<\/th>\n",
       "      <td>184<\/td>\n",
       "      <td>5<\/td>\n",
       "      <td>5563.560<\/td>\n",
       "    <\/tr>\n",
       "    <tr>\n",
       "      <th>AA-10375<\/th>\n",
       "      <td>19<\/td>\n",
       "      <td>9<\/td>\n",
       "      <td>1056.390<\/td>\n",
       "    <\/tr>\n",
       "    <tr>\n",
       "      <th>AA-10480<\/th>\n",
       "      <td>259<\/td>\n",
       "      <td>4<\/td>\n",
       "      <td>1790.512<\/td>\n",
       "    <\/tr>\n",
       "    <tr>\n",
       "      <th>AA-10645<\/th>\n",
       "      <td>55<\/td>\n",
       "      <td>6<\/td>\n",
       "      <td>5086.935<\/td>\n",
       "    <\/tr>\n",
       "    <tr>\n",
       "      <th>AB-10015<\/th>\n",
       "      <td>415<\/td>\n",
       "      <td>3<\/td>\n",
       "      <td>886.156<\/td>\n",
       "    <\/tr>\n",
       "    <tr>\n",
       "      <th>...<\/th>\n",
       "      <td>...<\/td>\n",
       "      <td>...<\/td>\n",
       "      <td>...<\/td>\n",
       "    <\/tr>\n",
       "    <tr>\n",
       "      <th>XP-21865<\/th>\n",
       "      <td>43<\/td>\n",
       "      <td>11<\/td>\n",
       "      <td>2374.658<\/td>\n",
       "    <\/tr>\n",
       "    <tr>\n",
       "      <th>YC-21895<\/th>\n",
       "      <td>4<\/td>\n",
       "      <td>5<\/td>\n",
       "      <td>5454.350<\/td>\n",
       "    <\/tr>\n",
       "    <tr>\n",
       "      <th>YS-21880<\/th>\n",
       "      <td>9<\/td>\n",
       "      <td>8<\/td>\n",
       "      <td>6720.444<\/td>\n",
       "    <\/tr>\n",
       "    <tr>\n",
       "      <th>ZC-21910<\/th>\n",
       "      <td>54<\/td>\n",
       "      <td>13<\/td>\n",
       "      <td>8025.707<\/td>\n",
       "    <\/tr>\n",
       "    <tr>\n",
       "      <th>ZD-21925<\/th>\n",
       "      <td>202<\/td>\n",
       "      <td>5<\/td>\n",
       "      <td>1493.944<\/td>\n",
       "    <\/tr>\n",
       "  <\/tbody>\n",
       "<\/table>\n",
       "<p>793 rows × 3 columns<\/p>\n",
       "<\/div>"
      ]
     },
     "metadata":{
      
     },
     "output_type":"display_data"
    }
   ],
   "metadata":{
    "datalore":{
     "node_id":"cBuALPCrO8bO3Drn5a28MS",
     "type":"CODE",
     "hide_input_from_viewers":true,
     "hide_output_from_viewers":true
    }
   }
  },
  {
   "cell_type":"markdown",
   "source":[
    "#### 1.9 Convert values to quartiles"
   ],
   "attachments":{
    
   },
   "metadata":{
    "datalore":{
     "node_id":"JS47Iju5HL8VgsD6hTZHuI",
     "type":"MD",
     "hide_input_from_viewers":true,
     "hide_output_from_viewers":true
    }
   }
  },
  {
   "cell_type":"code",
   "source":[
    "rfmData = superstore\\\n",
    "    .groupby('Customer ID')\\\n",
    "        .agg({ 'Order Date' : recency, 'Order ID': 'nunique', 'Sales': sum })\\\n",
    "            .rename(columns = {'Orde Date': 'R','Order ID':'F','Sales': 'M' })"
   ],
   "execution_count":18,
   "outputs":[
    
   ],
   "metadata":{
    "datalore":{
     "node_id":"fsqGphprvM2Wh1FA2RC8e3",
     "type":"CODE",
     "hide_input_from_viewers":true,
     "hide_output_from_viewers":true
    }
   }
  },
  {
   "cell_type":"markdown",
   "source":[
    "ค่า R จะเห็นได้ว่างมีตั้งเเต่น้อยมาก ไปยันเยอะมาก ดังนั้นจะต้องนำมาทำ Z-Score(มั้ง เเต่ ต้องมาทำให้เป็นส่วน4ส่วน) วิธีนี่จะใชวิธี คัด หรือ คิวคัด "
   ],
   "attachments":{
    
   },
   "metadata":{
    "datalore":{
     "node_id":"rLSOQCYC2S7KzI1mNyhteG",
     "type":"MD",
     "hide_input_from_viewers":true,
     "hide_output_from_viewers":true
    }
   }
  },
  {
   "cell_type":"code",
   "source":[
    "rfmData.transform(lambda x: pd.qcut(x, q=4, labels=False))"
   ],
   "execution_count":19,
   "outputs":[
    {
     "data":{
      "text\/html":[
       "<div>\n",
       "<style scoped>\n",
       "    .dataframe tbody tr th:only-of-type {\n",
       "        vertical-align: middle;\n",
       "    }\n",
       "\n",
       "    .dataframe tbody tr th {\n",
       "        vertical-align: top;\n",
       "    }\n",
       "\n",
       "    .dataframe thead th {\n",
       "        text-align: right;\n",
       "    }\n",
       "<\/style>\n",
       "<table border=\"1\" class=\"dataframe\">\n",
       "  <thead>\n",
       "    <tr style=\"text-align: right;\">\n",
       "      <th><\/th>\n",
       "      <th>Order Date<\/th>\n",
       "      <th>F<\/th>\n",
       "      <th>M<\/th>\n",
       "    <\/tr>\n",
       "    <tr>\n",
       "      <th>Customer ID<\/th>\n",
       "      <th><\/th>\n",
       "      <th><\/th>\n",
       "      <th><\/th>\n",
       "    <\/tr>\n",
       "  <\/thead>\n",
       "  <tbody>\n",
       "    <tr>\n",
       "      <th>AA-10315<\/th>\n",
       "      <td>3<\/td>\n",
       "      <td>0<\/td>\n",
       "      <td>3<\/td>\n",
       "    <\/tr>\n",
       "    <tr>\n",
       "      <th>AA-10375<\/th>\n",
       "      <td>0<\/td>\n",
       "      <td>3<\/td>\n",
       "      <td>0<\/td>\n",
       "    <\/tr>\n",
       "    <tr>\n",
       "      <th>AA-10480<\/th>\n",
       "      <td>3<\/td>\n",
       "      <td>0<\/td>\n",
       "      <td>1<\/td>\n",
       "    <\/tr>\n",
       "    <tr>\n",
       "      <th>AA-10645<\/th>\n",
       "      <td>1<\/td>\n",
       "      <td>1<\/td>\n",
       "      <td>3<\/td>\n",
       "    <\/tr>\n",
       "    <tr>\n",
       "      <th>AB-10015<\/th>\n",
       "      <td>3<\/td>\n",
       "      <td>0<\/td>\n",
       "      <td>0<\/td>\n",
       "    <\/tr>\n",
       "    <tr>\n",
       "      <th>...<\/th>\n",
       "      <td>...<\/td>\n",
       "      <td>...<\/td>\n",
       "      <td>...<\/td>\n",
       "    <\/tr>\n",
       "    <tr>\n",
       "      <th>XP-21865<\/th>\n",
       "      <td>1<\/td>\n",
       "      <td>3<\/td>\n",
       "      <td>2<\/td>\n",
       "    <\/tr>\n",
       "    <tr>\n",
       "      <th>YC-21895<\/th>\n",
       "      <td>0<\/td>\n",
       "      <td>0<\/td>\n",
       "      <td>3<\/td>\n",
       "    <\/tr>\n",
       "    <tr>\n",
       "      <th>YS-21880<\/th>\n",
       "      <td>0<\/td>\n",
       "      <td>2<\/td>\n",
       "      <td>3<\/td>\n",
       "    <\/tr>\n",
       "    <tr>\n",
       "      <th>ZC-21910<\/th>\n",
       "      <td>1<\/td>\n",
       "      <td>3<\/td>\n",
       "      <td>3<\/td>\n",
       "    <\/tr>\n",
       "    <tr>\n",
       "      <th>ZD-21925<\/th>\n",
       "      <td>3<\/td>\n",
       "      <td>0<\/td>\n",
       "      <td>1<\/td>\n",
       "    <\/tr>\n",
       "  <\/tbody>\n",
       "<\/table>\n",
       "<p>793 rows × 3 columns<\/p>\n",
       "<\/div>"
      ]
     },
     "metadata":{
      
     },
     "output_type":"display_data"
    }
   ],
   "metadata":{
    "datalore":{
     "node_id":"RrPpembGhUjzLQBCEoSZXM",
     "type":"CODE",
     "hide_input_from_viewers":true,
     "hide_output_from_viewers":true
    }
   }
  },
  {
   "cell_type":"markdown",
   "source":[
    "- 303 -> มาซื้อไม่บ่อย เเต่ซื้อเยอะ เเล้วซื้อกับเราเยอะเเล้ว \n",
    "- 030 ->  ซื้อน้อยมาก เเต่ซื้อบ่อย\n",
    "- 301 -> ไม่ได้มาซื้อนานเเล้ว ซื้อทีละไม่เยอะ ไม่ได้ซื้อบ่อย"
   ],
   "attachments":{
    
   },
   "metadata":{
    "datalore":{
     "node_id":"C0lkN33Wx7g7MJuD6JOawP",
     "type":"MD",
     "hide_input_from_viewers":true,
     "hide_output_from_viewers":true
    }
   }
  },
  {
   "cell_type":"markdown",
   "source":[
    "### ความเเตกต่างระหว่าง cut & qcut"
   ],
   "attachments":{
    
   },
   "metadata":{
    "datalore":{
     "node_id":"x6IMTH1IoZOq28jHztKrmq",
     "type":"MD",
     "hide_input_from_viewers":true,
     "hide_output_from_viewers":true
    }
   }
  },
  {
   "cell_type":"markdown",
   "source":[
    "### cut"
   ],
   "attachments":{
    
   },
   "metadata":{
    "datalore":{
     "node_id":"m1bV1gOzhIMTnvldwqj4BT",
     "type":"MD",
     "hide_input_from_viewers":true,
     "hide_output_from_viewers":true
    }
   }
  },
  {
   "cell_type":"code",
   "source":[
    "# ตัวอย่าง1\n",
    "pd.cut(superstore[\"Sales\"], 4)"
   ],
   "execution_count":20,
   "outputs":[
    {
     "data":{
      "text\/html":[
       "<pre>Row ID\n",
       "1       (-22.194, 5659.953]\n",
       "2       (-22.194, 5659.953]\n",
       "3       (-22.194, 5659.953]\n",
       "4       (-22.194, 5659.953]\n",
       "5       (-22.194, 5659.953]\n",
       "               ...         \n",
       "9990    (-22.194, 5659.953]\n",
       "9991    (-22.194, 5659.953]\n",
       "9992    (-22.194, 5659.953]\n",
       "9993    (-22.194, 5659.953]\n",
       "9994    (-22.194, 5659.953]\n",
       "Name: Sales, Length: 9994, dtype: category\n",
       "Categories (4, interval[float64, right]): [(-22.194, 5659.953] %lt; (5659.953, 11319.462] %lt; (11319.462, 16978.971] %lt; (16978.971, 22638.48]]<\/pre>"
      ]
     },
     "metadata":{
      
     },
     "output_type":"display_data"
    }
   ],
   "metadata":{
    "datalore":{
     "node_id":"M5Q3A6J1evBz74mGnqgN2Z",
     "type":"CODE",
     "hide_input_from_viewers":true,
     "hide_output_from_viewers":true
    }
   }
  },
  {
   "cell_type":"code",
   "source":[
    "# ตัวอย่าง 2\n",
    "pd.crosstab(pd.cut(superstore[\"Sales\"], 4), \"N\")\n",
    "    # จากข้อมูลทำให้รู้ว่าเกิดการ \"กระจุกตัวข้อมูล\""
   ],
   "execution_count":21,
   "outputs":[
    {
     "data":{
      "text\/html":[
       "<div>\n",
       "<style scoped>\n",
       "    .dataframe tbody tr th:only-of-type {\n",
       "        vertical-align: middle;\n",
       "    }\n",
       "\n",
       "    .dataframe tbody tr th {\n",
       "        vertical-align: top;\n",
       "    }\n",
       "\n",
       "    .dataframe thead th {\n",
       "        text-align: right;\n",
       "    }\n",
       "<\/style>\n",
       "<table border=\"1\" class=\"dataframe\">\n",
       "  <thead>\n",
       "    <tr style=\"text-align: right;\">\n",
       "      <th>col_0<\/th>\n",
       "      <th>N<\/th>\n",
       "    <\/tr>\n",
       "    <tr>\n",
       "      <th>Sales<\/th>\n",
       "      <th><\/th>\n",
       "    <\/tr>\n",
       "  <\/thead>\n",
       "  <tbody>\n",
       "    <tr>\n",
       "      <th>(-22.194, 5659.953]<\/th>\n",
       "      <td>9979<\/td>\n",
       "    <\/tr>\n",
       "    <tr>\n",
       "      <th>(5659.953, 11319.462]<\/th>\n",
       "      <td>12<\/td>\n",
       "    <\/tr>\n",
       "    <tr>\n",
       "      <th>(11319.462, 16978.971]<\/th>\n",
       "      <td>1<\/td>\n",
       "    <\/tr>\n",
       "    <tr>\n",
       "      <th>(16978.971, 22638.48]<\/th>\n",
       "      <td>2<\/td>\n",
       "    <\/tr>\n",
       "  <\/tbody>\n",
       "<\/table>\n",
       "<\/div>"
      ]
     },
     "metadata":{
      
     },
     "output_type":"display_data"
    }
   ],
   "metadata":{
    "datalore":{
     "node_id":"h9SiwJg0XLEcz2rOnT5csO",
     "type":"CODE",
     "hide_input_from_viewers":true,
     "hide_output_from_viewers":true
    }
   }
  },
  {
   "cell_type":"markdown",
   "source":[
    "### qcut"
   ],
   "attachments":{
    
   },
   "metadata":{
    "datalore":{
     "node_id":"6k7TMghoSJyCNrzXFGUzkX",
     "type":"MD",
     "hide_input_from_viewers":true,
     "hide_output_from_viewers":true
    }
   }
  },
  {
   "cell_type":"code",
   "source":[
    "pd.qcut(superstore['Sales'],q=4)"
   ],
   "execution_count":22,
   "outputs":[
    {
     "data":{
      "text\/html":[
       "<pre>Row ID\n",
       "1       (209.94, 22638.48]\n",
       "2       (209.94, 22638.48]\n",
       "3           (0.443, 17.28]\n",
       "4       (209.94, 22638.48]\n",
       "5           (17.28, 54.49]\n",
       "               ...        \n",
       "9990        (17.28, 54.49]\n",
       "9991       (54.49, 209.94]\n",
       "9992    (209.94, 22638.48]\n",
       "9993        (17.28, 54.49]\n",
       "9994    (209.94, 22638.48]\n",
       "Name: Sales, Length: 9994, dtype: category\n",
       "Categories (4, interval[float64, right]): [(0.443, 17.28] %lt; (17.28, 54.49] %lt; (54.49, 209.94] %lt; (209.94, 22638.48]]<\/pre>"
      ]
     },
     "metadata":{
      
     },
     "output_type":"display_data"
    }
   ],
   "metadata":{
    "datalore":{
     "node_id":"dd6JitMUA8PrhPzM9FsDdK",
     "type":"CODE",
     "hide_input_from_viewers":true,
     "hide_output_from_viewers":true
    }
   }
  },
  {
   "cell_type":"code",
   "source":[
    "pd.crosstab(pd.qcut(superstore['Sales'],q=4), 'N')\n",
    "    # ไม่\"กระจุกตัว\" เหมือน cut"
   ],
   "execution_count":23,
   "outputs":[
    {
     "data":{
      "text\/html":[
       "<div>\n",
       "<style scoped>\n",
       "    .dataframe tbody tr th:only-of-type {\n",
       "        vertical-align: middle;\n",
       "    }\n",
       "\n",
       "    .dataframe tbody tr th {\n",
       "        vertical-align: top;\n",
       "    }\n",
       "\n",
       "    .dataframe thead th {\n",
       "        text-align: right;\n",
       "    }\n",
       "<\/style>\n",
       "<table border=\"1\" class=\"dataframe\">\n",
       "  <thead>\n",
       "    <tr style=\"text-align: right;\">\n",
       "      <th>col_0<\/th>\n",
       "      <th>N<\/th>\n",
       "    <\/tr>\n",
       "    <tr>\n",
       "      <th>Sales<\/th>\n",
       "      <th><\/th>\n",
       "    <\/tr>\n",
       "  <\/thead>\n",
       "  <tbody>\n",
       "    <tr>\n",
       "      <th>(0.443, 17.28]<\/th>\n",
       "      <td>2501<\/td>\n",
       "    <\/tr>\n",
       "    <tr>\n",
       "      <th>(17.28, 54.49]<\/th>\n",
       "      <td>2496<\/td>\n",
       "    <\/tr>\n",
       "    <tr>\n",
       "      <th>(54.49, 209.94]<\/th>\n",
       "      <td>2499<\/td>\n",
       "    <\/tr>\n",
       "    <tr>\n",
       "      <th>(209.94, 22638.48]<\/th>\n",
       "      <td>2498<\/td>\n",
       "    <\/tr>\n",
       "  <\/tbody>\n",
       "<\/table>\n",
       "<\/div>"
      ]
     },
     "metadata":{
      
     },
     "output_type":"display_data"
    }
   ],
   "metadata":{
    "datalore":{
     "node_id":"ahM8qzrvu3mBL6K2wqiv98",
     "type":"CODE",
     "hide_input_from_viewers":true,
     "hide_output_from_viewers":true
    }
   }
  },
  {
   "cell_type":"markdown",
   "source":[
    "### อธิบายจากด้านบน \n",
    "#### มันเเบ่งเป้นช่วงที่ไม่เท่ากัน 16, 37, 155, 22429 ตามละดับ\n",
    "\n",
    "- cut คือใช้ max min เเล้วเเบ่งเป้น4 ส่วน\n",
    "- qcut นำ Data มา Sort เรียงต่อกัน เเล้วค่อยตัดเเบ่งตาม % [25, 50, 75, 100] "
   ],
   "attachments":{
    
   },
   "metadata":{
    "datalore":{
     "node_id":"7Ww3EcsylBv9okZQkn73im",
     "type":"MD",
     "hide_input_from_viewers":true,
     "hide_output_from_viewers":true
    }
   }
  },
  {
   "cell_type":"code",
   "source":[
    
   ],
   "execution_count":null,
   "outputs":[
    
   ],
   "metadata":{
    "datalore":{
     "node_id":"jbeR2wNGcwIHH1xeChspli",
     "type":"CODE",
     "hide_input_from_viewers":true,
     "hide_output_from_viewers":true
    }
   }
  }
 ],
 "metadata":{
  "kernelspec":{
   "display_name":"Python",
   "language":"python",
   "name":"python"
  },
  "datalore":{
   "computation_mode":"JUPYTER",
   "package_manager":"pip",
   "base_environment":"default",
   "packages":[
    
   ],
   "report_row_ids":[
    
   ],
   "version":3
  }
 },
 "nbformat":4,
 "nbformat_minor":4
}